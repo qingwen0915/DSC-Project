{
 "cells": [
  {
   "cell_type": "markdown",
   "metadata": {},
   "source": [
    "# Midterm Project: Exploring COVID-19 Data 🦠\n",
    "\n",
    "\n",
    "\n",
    "## Due Wednesday, May 4 at 11:59pm\n",
    "\n",
    "\n",
    "<img src=\"data/covid.png\" width=70%>\n",
    "\n",
    "Welcome to the Midterm Project! Projects in DSC 10 are similar in format to homeworks, but are different in a few key ways. First, a project is comprehensive, meaning that it draws upon everything we've learned this quarter so far. Second, since problems can vary quite a bit in difficulty, some problems will be worth more points than others. Finally, in a project, the problems are more open-ended; they will usually ask for some result, but won't tell you what method should be used to get it. There might be several equally-valid approaches, and several steps might be necessary. This is closer to how data science is done in \"real life\".\n",
    "\n",
    "It is important that you **start early** on the project! It will take the place of a homework in the week that it is due, but you should also expect it to take longer than a homework. You are especially encouraged to **find a partner** to work through the project with. If you work in a pair, you must follow the [Pair Programming Guidelines](https://dsc10.com/pair-programming/) on the course website. In particular, you must work together at the same time, and you are not allowed to split up the problems and each work on certain problems. If working in a pair, you should submit one notebook to Gradescope for the both of you. Use [this sheet](https://docs.google.com/spreadsheets/d/1Zs1CuHFlhYITrMfD6mSTTH9V27o9Z1WcbYpo0RLvWik/edit?usp=sharing) to find someone else to work with.\n",
    "\n",
    "**Important:** The `otter` tests don't usually tell you that your answer is correct. More often, they help catch basic mistakes. It's up to you to ensure that your answer is correct. If you're not sure, ask someone (not for the answer, but for some guidance about your approach). Directly sharing answers between groups is not okay, but discussing problems with the course staff or with other students is encouraged.\n",
    "\n",
    "**Avoid looping through DataFrames. Do not import any packages.** Loops in Python are slow, and looping through DataFrames should usually be avoided in favor of the DataFrame commands we've learned in class, which are much faster. Please do not import any additional packages - you don't need them, and our autograder may not be able to run your code if you do.\n",
    "\n",
    "As you work through this project, there are a few resources you may want to have open:\n",
    "- [DSC 10 Course Notes](https://notes.dsc10.com/front.html)\n",
    "- [DSC 10 Reference Sheet](https://drive.google.com/file/d/1mQApk9Ovdi-QVqMgnNcq5dZcWucUKoG-/view)\n",
    "- [`babypandas` documentation](https://babypandas.readthedocs.io/en/latest/)\n",
    "- Other links in the [Resources](https://dsc10.com/resources/) and [Debugging](https://dsc10.com/debugging/) tabs of the course website\n",
    "\n",
    "Start early, good luck, and let's get started! 🏃"
   ]
  },
  {
   "cell_type": "code",
   "execution_count": 1,
   "metadata": {},
   "outputs": [],
   "source": [
    "# Please don't change this cell, but do make sure to run it.\n",
    "import babypandas as bpd\n",
    "import numpy as np\n",
    "import datetime\n",
    "\n",
    "import matplotlib.pyplot as plt\n",
    "plt.style.use('fivethirtyeight')\n",
    "\n",
    "import otter\n",
    "import numbers\n",
    "import IPython\n",
    "grader = otter.Notebook()"
   ]
  },
  {
   "cell_type": "markdown",
   "metadata": {},
   "source": [
    "### Background\n",
    "\n",
    "During the end of the year 2019, the novel coronavirus started spreading around the world, causing many people to contract COVID-19. It didn't take long for the virus to spread from Wuhan, China to pretty much everywhere else in the world. At first, no one realized the severity of the virus and its potential to change lives as drastically as it has. In February 2020, the number of COVID-19 cases in the United States started to grow exponentially. Various measures, like face covering regulations, stay at home mandates, and vaccines, have helped control the virus, but it still continues to affect the world greatly, even two years later. In the US, there have been over 80 million cases of COVID-19, and nearly 1 million people have died as a result. \n",
    "\n",
    "In this project, we will be analyzing COVID-19 data in the United States, using national data from fall 2020, broken down by state and by day. The data we have comes from the [COVID-19 Tracking Project](https://covidtracking.com/), License: CC BY 4.0.\n",
    "\n",
    "### Outline of the Project \n",
    "\n",
    "The project is divided into eight sections, most of which contain several questions. Use the outline below to help you quickly navigate to the part of the project you're working on. Questions are worth one point each, except the questions shown in bold in the outline are worth two points (and you can expect them to be harder, more complex questions).\n",
    "\n",
    "-  Section 1. [Meet the Data 👋 💾](#part1_section1)  \n",
    "     - Q1.1\n",
    "-  Section 2. [Working with `datetime`s 📆 🕗](#part1_section2) \n",
    "     - **Q2.1**\n",
    "-  Section 3. [Exploratory Data Analysis 🔎](#part1_section3)  \n",
    "     - Q3.1, Q3.2, Q3.3, Q3.4, Q3.5, Q3.6\n",
    "-  Section 4. [Exponential Growth? 🚀](#part1_section4)  \n",
    "     - Q4.1, Q4.2, **Q4.3**, Q4.4, Q4.5, **Q4.6**\n",
    "-  Section 5. [Weekdays vs. Weekends 👔 🆚 🏄](#part1_section5)  \n",
    "     - Q5.1, **Q5.2**, **Q5.3**, Q5.4, **Q5.5**, Q5.6, Q5.7, Q5.8\n",
    "-  Section 6. [Rates Per 100,000 People 👩‍🦱👦🏾🧑👩🏿‍🦰👩🏽‍🦱🧔👱‍♀️](#part1_section6) \n",
    "     - Q6.1, **Q6.2**, Q6.3, **Q6.4**\n",
    "-  Section 7. [Mask Mandates 😷](#part1_section7) \n",
    "     - Q7.1, **Q7.2**, Q7.3, Q7.4, Q7.5\n",
    "-  Section 8. [Political Parties 🐘 🐎](#part1_section8) \n",
    "     - **Q8.1**, **Q8.2**, Q8.3, Q8.4, Q8.5, Q8.6, Q8.7\n"
   ]
  },
  {
   "cell_type": "markdown",
   "metadata": {},
   "source": [
    "<a id='part1_section1'></a>\n",
    "### Section 1: Meet the Data 👋 💾\n",
    "\n",
    "Our first step is to read in the data and prepare it for further analysis. \n",
    "\n",
    "We have already cleaned up the data a bit for you by removing unnecessary columns, handling missing values, and restricting the dates to be from only one quarter, from October 1, 2020 to December 31, 2020. \n",
    "\n",
    "The dataset we need is stored in `data/covid_tracking_data.csv`. Run the following code to start."
   ]
  },
  {
   "cell_type": "code",
   "execution_count": 2,
   "metadata": {
    "scrolled": true
   },
   "outputs": [
    {
     "data": {
      "text/html": [
       "<div>\n",
       "<style scoped>\n",
       "    .dataframe tbody tr th:only-of-type {\n",
       "        vertical-align: middle;\n",
       "    }\n",
       "\n",
       "    .dataframe tbody tr th {\n",
       "        vertical-align: top;\n",
       "    }\n",
       "\n",
       "    .dataframe thead th {\n",
       "        text-align: right;\n",
       "    }\n",
       "</style>\n",
       "<table border=\"1\" class=\"dataframe\">\n",
       "  <thead>\n",
       "    <tr style=\"text-align: right;\">\n",
       "      <th></th>\n",
       "      <th>date</th>\n",
       "      <th>state</th>\n",
       "      <th>death</th>\n",
       "      <th>deathIncrease</th>\n",
       "      <th>hospitalized</th>\n",
       "      <th>hospitalizedIncrease</th>\n",
       "      <th>negative</th>\n",
       "      <th>negativeIncrease</th>\n",
       "      <th>positive</th>\n",
       "      <th>positiveIncrease</th>\n",
       "    </tr>\n",
       "  </thead>\n",
       "  <tbody>\n",
       "    <tr>\n",
       "      <th>0</th>\n",
       "      <td>12/31/20</td>\n",
       "      <td>AK</td>\n",
       "      <td>206</td>\n",
       "      <td>3</td>\n",
       "      <td>1023</td>\n",
       "      <td>6</td>\n",
       "      <td>1230289</td>\n",
       "      <td>8163</td>\n",
       "      <td>45461</td>\n",
       "      <td>495</td>\n",
       "    </tr>\n",
       "    <tr>\n",
       "      <th>1</th>\n",
       "      <td>12/31/20</td>\n",
       "      <td>AL</td>\n",
       "      <td>4827</td>\n",
       "      <td>53</td>\n",
       "      <td>34184</td>\n",
       "      <td>353</td>\n",
       "      <td>1583419</td>\n",
       "      <td>8344</td>\n",
       "      <td>361226</td>\n",
       "      <td>4406</td>\n",
       "    </tr>\n",
       "    <tr>\n",
       "      <th>2</th>\n",
       "      <td>12/31/20</td>\n",
       "      <td>AR</td>\n",
       "      <td>3676</td>\n",
       "      <td>39</td>\n",
       "      <td>11358</td>\n",
       "      <td>87</td>\n",
       "      <td>1864704</td>\n",
       "      <td>10591</td>\n",
       "      <td>225138</td>\n",
       "      <td>2708</td>\n",
       "    </tr>\n",
       "    <tr>\n",
       "      <th>3</th>\n",
       "      <td>12/31/20</td>\n",
       "      <td>AZ</td>\n",
       "      <td>8864</td>\n",
       "      <td>146</td>\n",
       "      <td>37257</td>\n",
       "      <td>473</td>\n",
       "      <td>2339635</td>\n",
       "      <td>15472</td>\n",
       "      <td>520207</td>\n",
       "      <td>7718</td>\n",
       "    </tr>\n",
       "    <tr>\n",
       "      <th>4</th>\n",
       "      <td>12/31/20</td>\n",
       "      <td>CA</td>\n",
       "      <td>25386</td>\n",
       "      <td>428</td>\n",
       "      <td>0</td>\n",
       "      <td>0</td>\n",
       "      <td>30610103</td>\n",
       "      <td>205169</td>\n",
       "      <td>2245379</td>\n",
       "      <td>27237</td>\n",
       "    </tr>\n",
       "    <tr>\n",
       "      <th>...</th>\n",
       "      <td>...</td>\n",
       "      <td>...</td>\n",
       "      <td>...</td>\n",
       "      <td>...</td>\n",
       "      <td>...</td>\n",
       "      <td>...</td>\n",
       "      <td>...</td>\n",
       "      <td>...</td>\n",
       "      <td>...</td>\n",
       "      <td>...</td>\n",
       "    </tr>\n",
       "    <tr>\n",
       "      <th>4687</th>\n",
       "      <td>10/1/20</td>\n",
       "      <td>VT</td>\n",
       "      <td>58</td>\n",
       "      <td>0</td>\n",
       "      <td>0</td>\n",
       "      <td>0</td>\n",
       "      <td>160608</td>\n",
       "      <td>1004</td>\n",
       "      <td>1759</td>\n",
       "      <td>3</td>\n",
       "    </tr>\n",
       "    <tr>\n",
       "      <th>4688</th>\n",
       "      <td>10/1/20</td>\n",
       "      <td>WA</td>\n",
       "      <td>2126</td>\n",
       "      <td>2</td>\n",
       "      <td>7533</td>\n",
       "      <td>50</td>\n",
       "      <td>1780567</td>\n",
       "      <td>13210</td>\n",
       "      <td>90372</td>\n",
       "      <td>633</td>\n",
       "    </tr>\n",
       "    <tr>\n",
       "      <th>4689</th>\n",
       "      <td>10/1/20</td>\n",
       "      <td>WI</td>\n",
       "      <td>1358</td>\n",
       "      <td>21</td>\n",
       "      <td>7409</td>\n",
       "      <td>109</td>\n",
       "      <td>1434721</td>\n",
       "      <td>11474</td>\n",
       "      <td>132123</td>\n",
       "      <td>3000</td>\n",
       "    </tr>\n",
       "    <tr>\n",
       "      <th>4690</th>\n",
       "      <td>10/1/20</td>\n",
       "      <td>WV</td>\n",
       "      <td>354</td>\n",
       "      <td>4</td>\n",
       "      <td>0</td>\n",
       "      <td>0</td>\n",
       "      <td>550564</td>\n",
       "      <td>4844</td>\n",
       "      <td>16024</td>\n",
       "      <td>176</td>\n",
       "    </tr>\n",
       "    <tr>\n",
       "      <th>4691</th>\n",
       "      <td>10/1/20</td>\n",
       "      <td>WY</td>\n",
       "      <td>53</td>\n",
       "      <td>3</td>\n",
       "      <td>274</td>\n",
       "      <td>2</td>\n",
       "      <td>95212</td>\n",
       "      <td>0</td>\n",
       "      <td>6083</td>\n",
       "      <td>135</td>\n",
       "    </tr>\n",
       "  </tbody>\n",
       "</table>\n",
       "<p>4692 rows × 10 columns</p>\n",
       "</div>"
      ],
      "text/plain": [
       "          date state  death  deathIncrease  hospitalized  \\\n",
       "0     12/31/20    AK    206              3          1023   \n",
       "1     12/31/20    AL   4827             53         34184   \n",
       "2     12/31/20    AR   3676             39         11358   \n",
       "3     12/31/20    AZ   8864            146         37257   \n",
       "4     12/31/20    CA  25386            428             0   \n",
       "...        ...   ...    ...            ...           ...   \n",
       "4687   10/1/20    VT     58              0             0   \n",
       "4688   10/1/20    WA   2126              2          7533   \n",
       "4689   10/1/20    WI   1358             21          7409   \n",
       "4690   10/1/20    WV    354              4             0   \n",
       "4691   10/1/20    WY     53              3           274   \n",
       "\n",
       "      hospitalizedIncrease  negative  negativeIncrease  positive  \\\n",
       "0                        6   1230289              8163     45461   \n",
       "1                      353   1583419              8344    361226   \n",
       "2                       87   1864704             10591    225138   \n",
       "3                      473   2339635             15472    520207   \n",
       "4                        0  30610103            205169   2245379   \n",
       "...                    ...       ...               ...       ...   \n",
       "4687                     0    160608              1004      1759   \n",
       "4688                    50   1780567             13210     90372   \n",
       "4689                   109   1434721             11474    132123   \n",
       "4690                     0    550564              4844     16024   \n",
       "4691                     2     95212                 0      6083   \n",
       "\n",
       "      positiveIncrease  \n",
       "0                  495  \n",
       "1                 4406  \n",
       "2                 2708  \n",
       "3                 7718  \n",
       "4                27237  \n",
       "...                ...  \n",
       "4687                 3  \n",
       "4688               633  \n",
       "4689              3000  \n",
       "4690               176  \n",
       "4691               135  \n",
       "\n",
       "[4692 rows x 10 columns]"
      ]
     },
     "execution_count": 2,
     "metadata": {},
     "output_type": "execute_result"
    }
   ],
   "source": [
    "covid_raw = bpd.read_csv('data/covid_tracking_data.csv')\n",
    "covid_raw"
   ]
  },
  {
   "cell_type": "markdown",
   "metadata": {},
   "source": [
    "Let's take a quick look at the DataFrame and understand what each row and column represents.\n",
    "\n",
    "For each of the 50 United States, plus the District of Columbia (DC), there is a separate row for each date in  October (31 days), November (30 days), and December (31 days). So the total number of rows is:"
   ]
  },
  {
   "cell_type": "code",
   "execution_count": 3,
   "metadata": {},
   "outputs": [
    {
     "data": {
      "text/plain": [
       "4692"
      ]
     },
     "execution_count": 3,
     "metadata": {},
     "output_type": "execute_result"
    }
   ],
   "source": [
    " 51*(31+30+31)"
   ]
  },
  {
   "cell_type": "markdown",
   "metadata": {},
   "source": [
    "Each row of our DataFrame represents both a state and a date. We will call this a \"state-date\" throughout this project.\n",
    "\n",
    "There are ten columns of data, reading from left to right:\n",
    "\n",
    "1. `'date'`: The date written as a string in the format month/day/year.\n",
    "2. `'state'`: The two-letter [postal code abbreviation](https://pe.usps.com/text/pub28/28apb.htm) for the state.\n",
    "3. `'death'`: The total (cumulative) number of COVID-19 related deaths recorded for that state, either on that date or a prior date.\n",
    "4. `'deathIncrease'`: The increase in the number of COVID-19 related deaths from the previous day, for the same state. \n",
    "5. `'hospitalized'`: The total (cumulative) number of COVID-19 related hospitalizations recorded for that state, either on that date or a prior date.\n",
    "6. `'hospitalizedIncrease'`: The increase in the number of COVID-19 related hospitalizations from the previous day, for the same state. \n",
    "7. `'negative'`: The total (cumulative) number of negative COVID-19 tests recorded for that state, either on that date or a prior date.\n",
    "8. `'negativeIncrease'`: The increase in the number of negative COVID-19 tests from the previous day, for the same state. \n",
    "9. `'positive'`: The total (cumulative) number of positive COVID-19 tests recorded for that state, either on that date or a prior date.\n",
    "10. `'positiveIncrease'`: The increase in the number of positive COVID-19 tests from the previous day, for the same state.\n",
    "\n",
    "Notice that the columns that end in `'Increase'` should never contain negative numbers, since cumulative totals should only increase over time. However, due to errors in the data, sometimes they are negative. We'll analyze the data as it's reported, without correcting these errors."
   ]
  },
  {
   "cell_type": "markdown",
   "metadata": {},
   "source": [
    "**Question 1.1.** Add the following two additional columns to `covid_raw`.\n",
    "\n",
    "11. `'totalTestResults'`: The total number of positive and negative COVID-19 tests recorded for that state, either on that date or previously recorded. \n",
    "12. `'totalTestResultsIncrease'`: The increase in the total number of positive and negative COVID-19 tests from the previous day, for the same state. A negative number indicates a decrease."
   ]
  },
  {
   "cell_type": "code",
   "execution_count": 4,
   "metadata": {
    "scrolled": true
   },
   "outputs": [
    {
     "data": {
      "text/html": [
       "<div>\n",
       "<style scoped>\n",
       "    .dataframe tbody tr th:only-of-type {\n",
       "        vertical-align: middle;\n",
       "    }\n",
       "\n",
       "    .dataframe tbody tr th {\n",
       "        vertical-align: top;\n",
       "    }\n",
       "\n",
       "    .dataframe thead th {\n",
       "        text-align: right;\n",
       "    }\n",
       "</style>\n",
       "<table border=\"1\" class=\"dataframe\">\n",
       "  <thead>\n",
       "    <tr style=\"text-align: right;\">\n",
       "      <th></th>\n",
       "      <th>date</th>\n",
       "      <th>state</th>\n",
       "      <th>death</th>\n",
       "      <th>deathIncrease</th>\n",
       "      <th>hospitalized</th>\n",
       "      <th>hospitalizedIncrease</th>\n",
       "      <th>negative</th>\n",
       "      <th>negativeIncrease</th>\n",
       "      <th>positive</th>\n",
       "      <th>positiveIncrease</th>\n",
       "      <th>totalTestResults</th>\n",
       "      <th>totalTestResultsIncrease</th>\n",
       "    </tr>\n",
       "  </thead>\n",
       "  <tbody>\n",
       "    <tr>\n",
       "      <th>0</th>\n",
       "      <td>12/31/20</td>\n",
       "      <td>AK</td>\n",
       "      <td>206</td>\n",
       "      <td>3</td>\n",
       "      <td>1023</td>\n",
       "      <td>6</td>\n",
       "      <td>1230289</td>\n",
       "      <td>8163</td>\n",
       "      <td>45461</td>\n",
       "      <td>495</td>\n",
       "      <td>1275750</td>\n",
       "      <td>8658</td>\n",
       "    </tr>\n",
       "    <tr>\n",
       "      <th>1</th>\n",
       "      <td>12/31/20</td>\n",
       "      <td>AL</td>\n",
       "      <td>4827</td>\n",
       "      <td>53</td>\n",
       "      <td>34184</td>\n",
       "      <td>353</td>\n",
       "      <td>1583419</td>\n",
       "      <td>8344</td>\n",
       "      <td>361226</td>\n",
       "      <td>4406</td>\n",
       "      <td>1944645</td>\n",
       "      <td>12750</td>\n",
       "    </tr>\n",
       "    <tr>\n",
       "      <th>2</th>\n",
       "      <td>12/31/20</td>\n",
       "      <td>AR</td>\n",
       "      <td>3676</td>\n",
       "      <td>39</td>\n",
       "      <td>11358</td>\n",
       "      <td>87</td>\n",
       "      <td>1864704</td>\n",
       "      <td>10591</td>\n",
       "      <td>225138</td>\n",
       "      <td>2708</td>\n",
       "      <td>2089842</td>\n",
       "      <td>13299</td>\n",
       "    </tr>\n",
       "    <tr>\n",
       "      <th>3</th>\n",
       "      <td>12/31/20</td>\n",
       "      <td>AZ</td>\n",
       "      <td>8864</td>\n",
       "      <td>146</td>\n",
       "      <td>37257</td>\n",
       "      <td>473</td>\n",
       "      <td>2339635</td>\n",
       "      <td>15472</td>\n",
       "      <td>520207</td>\n",
       "      <td>7718</td>\n",
       "      <td>2859842</td>\n",
       "      <td>23190</td>\n",
       "    </tr>\n",
       "    <tr>\n",
       "      <th>4</th>\n",
       "      <td>12/31/20</td>\n",
       "      <td>CA</td>\n",
       "      <td>25386</td>\n",
       "      <td>428</td>\n",
       "      <td>0</td>\n",
       "      <td>0</td>\n",
       "      <td>30610103</td>\n",
       "      <td>205169</td>\n",
       "      <td>2245379</td>\n",
       "      <td>27237</td>\n",
       "      <td>32855482</td>\n",
       "      <td>232406</td>\n",
       "    </tr>\n",
       "    <tr>\n",
       "      <th>...</th>\n",
       "      <td>...</td>\n",
       "      <td>...</td>\n",
       "      <td>...</td>\n",
       "      <td>...</td>\n",
       "      <td>...</td>\n",
       "      <td>...</td>\n",
       "      <td>...</td>\n",
       "      <td>...</td>\n",
       "      <td>...</td>\n",
       "      <td>...</td>\n",
       "      <td>...</td>\n",
       "      <td>...</td>\n",
       "    </tr>\n",
       "    <tr>\n",
       "      <th>4687</th>\n",
       "      <td>10/1/20</td>\n",
       "      <td>VT</td>\n",
       "      <td>58</td>\n",
       "      <td>0</td>\n",
       "      <td>0</td>\n",
       "      <td>0</td>\n",
       "      <td>160608</td>\n",
       "      <td>1004</td>\n",
       "      <td>1759</td>\n",
       "      <td>3</td>\n",
       "      <td>162367</td>\n",
       "      <td>1007</td>\n",
       "    </tr>\n",
       "    <tr>\n",
       "      <th>4688</th>\n",
       "      <td>10/1/20</td>\n",
       "      <td>WA</td>\n",
       "      <td>2126</td>\n",
       "      <td>2</td>\n",
       "      <td>7533</td>\n",
       "      <td>50</td>\n",
       "      <td>1780567</td>\n",
       "      <td>13210</td>\n",
       "      <td>90372</td>\n",
       "      <td>633</td>\n",
       "      <td>1870939</td>\n",
       "      <td>13843</td>\n",
       "    </tr>\n",
       "    <tr>\n",
       "      <th>4689</th>\n",
       "      <td>10/1/20</td>\n",
       "      <td>WI</td>\n",
       "      <td>1358</td>\n",
       "      <td>21</td>\n",
       "      <td>7409</td>\n",
       "      <td>109</td>\n",
       "      <td>1434721</td>\n",
       "      <td>11474</td>\n",
       "      <td>132123</td>\n",
       "      <td>3000</td>\n",
       "      <td>1566844</td>\n",
       "      <td>14474</td>\n",
       "    </tr>\n",
       "    <tr>\n",
       "      <th>4690</th>\n",
       "      <td>10/1/20</td>\n",
       "      <td>WV</td>\n",
       "      <td>354</td>\n",
       "      <td>4</td>\n",
       "      <td>0</td>\n",
       "      <td>0</td>\n",
       "      <td>550564</td>\n",
       "      <td>4844</td>\n",
       "      <td>16024</td>\n",
       "      <td>176</td>\n",
       "      <td>566588</td>\n",
       "      <td>5020</td>\n",
       "    </tr>\n",
       "    <tr>\n",
       "      <th>4691</th>\n",
       "      <td>10/1/20</td>\n",
       "      <td>WY</td>\n",
       "      <td>53</td>\n",
       "      <td>3</td>\n",
       "      <td>274</td>\n",
       "      <td>2</td>\n",
       "      <td>95212</td>\n",
       "      <td>0</td>\n",
       "      <td>6083</td>\n",
       "      <td>135</td>\n",
       "      <td>101295</td>\n",
       "      <td>135</td>\n",
       "    </tr>\n",
       "  </tbody>\n",
       "</table>\n",
       "<p>4692 rows × 12 columns</p>\n",
       "</div>"
      ],
      "text/plain": [
       "          date state  death  deathIncrease  hospitalized  \\\n",
       "0     12/31/20    AK    206              3          1023   \n",
       "1     12/31/20    AL   4827             53         34184   \n",
       "2     12/31/20    AR   3676             39         11358   \n",
       "3     12/31/20    AZ   8864            146         37257   \n",
       "4     12/31/20    CA  25386            428             0   \n",
       "...        ...   ...    ...            ...           ...   \n",
       "4687   10/1/20    VT     58              0             0   \n",
       "4688   10/1/20    WA   2126              2          7533   \n",
       "4689   10/1/20    WI   1358             21          7409   \n",
       "4690   10/1/20    WV    354              4             0   \n",
       "4691   10/1/20    WY     53              3           274   \n",
       "\n",
       "      hospitalizedIncrease  negative  negativeIncrease  positive  \\\n",
       "0                        6   1230289              8163     45461   \n",
       "1                      353   1583419              8344    361226   \n",
       "2                       87   1864704             10591    225138   \n",
       "3                      473   2339635             15472    520207   \n",
       "4                        0  30610103            205169   2245379   \n",
       "...                    ...       ...               ...       ...   \n",
       "4687                     0    160608              1004      1759   \n",
       "4688                    50   1780567             13210     90372   \n",
       "4689                   109   1434721             11474    132123   \n",
       "4690                     0    550564              4844     16024   \n",
       "4691                     2     95212                 0      6083   \n",
       "\n",
       "      positiveIncrease  totalTestResults  totalTestResultsIncrease  \n",
       "0                  495           1275750                      8658  \n",
       "1                 4406           1944645                     12750  \n",
       "2                 2708           2089842                     13299  \n",
       "3                 7718           2859842                     23190  \n",
       "4                27237          32855482                    232406  \n",
       "...                ...               ...                       ...  \n",
       "4687                 3            162367                      1007  \n",
       "4688               633           1870939                     13843  \n",
       "4689              3000           1566844                     14474  \n",
       "4690               176            566588                      5020  \n",
       "4691               135            101295                       135  \n",
       "\n",
       "[4692 rows x 12 columns]"
      ]
     },
     "execution_count": 4,
     "metadata": {},
     "output_type": "execute_result"
    }
   ],
   "source": [
    "covid_raw = covid_raw.assign(\n",
    "    totalTestResults = covid_raw.get('negative') + covid_raw.get('positive')).\\\n",
    "    assign(totalTestResultsIncrease = covid_raw.get('positiveIncrease') + covid_raw.get('negativeIncrease'))\n",
    "covid_raw"
   ]
  },
  {
   "cell_type": "code",
   "execution_count": 5,
   "metadata": {
    "deletable": false,
    "editable": false
   },
   "outputs": [
    {
     "data": {
      "text/html": [
       "<p><strong><pre style='display: inline;'>q1_1</pre></strong> passed!</p>"
      ],
      "text/plain": [
       "q1_1 results: All test cases passed!"
      ]
     },
     "execution_count": 5,
     "metadata": {},
     "output_type": "execute_result"
    }
   ],
   "source": [
    "grader.check(\"q1_1\")"
   ]
  },
  {
   "cell_type": "markdown",
   "metadata": {},
   "source": [
    "<a id='part1_section2'></a>\n",
    "### Section 2: Working with `datetime`s 📆 🕗\n",
    "\n",
    "We want to perform some analysis using the `'date'` column, but it's not so easy to answer certain questions given the current format of the date. For example, which month had the most positive tests? The month information is embedded within the `'date'` column, but we want to be able to separate the year, month, day, and year.\n",
    "\n",
    "The `'date'` column currently contains strings in the format month/day/year. For example, \"12/31/20\" represents December 31, 2020.\n",
    "\n",
    "To better prepare for our subsequent analysis, let's extract the year, month, and day from this string. We *could* do this with the string methods we've seen before, but Python actually provides an easier way to work with dates. The `datetime` module, which we'll import, has a function that can read in a string in month/day/year format and convert it into what's called a `datetime` object. This function, `.strptime`,  takes in two arguments: a string that we want to convert, and a [*format string*](https://docs.python.org/3/library/datetime.html#strftime-and-strptime-format-codes) that tells Python what each part of the input string represents. For our application, since the string is input in the format month/day/year, we will use the format string \"%m/%d/%y\". \n",
    "\n",
    "Below is an example:"
   ]
  },
  {
   "cell_type": "code",
   "execution_count": 6,
   "metadata": {},
   "outputs": [
    {
     "data": {
      "text/plain": [
       "'12/31/20'"
      ]
     },
     "execution_count": 6,
     "metadata": {},
     "output_type": "execute_result"
    }
   ],
   "source": [
    "example_string_date = covid_raw.get('date').loc[0]\n",
    "example_string_date"
   ]
  },
  {
   "cell_type": "code",
   "execution_count": 7,
   "metadata": {},
   "outputs": [
    {
     "data": {
      "text/plain": [
       "datetime.datetime(2020, 12, 31, 0, 0)"
      ]
     },
     "execution_count": 7,
     "metadata": {},
     "output_type": "execute_result"
    }
   ],
   "source": [
    "import datetime\n",
    "example_dt = datetime.datetime.strptime(example_string_date, '%m/%d/%y')\n",
    "example_dt"
   ]
  },
  {
   "cell_type": "markdown",
   "metadata": {},
   "source": [
    "Python has parsed the date string into its constituent parts. To get the year from our `datetime` object, we can write:"
   ]
  },
  {
   "cell_type": "code",
   "execution_count": 8,
   "metadata": {},
   "outputs": [
    {
     "data": {
      "text/plain": [
       "2020"
      ]
     },
     "execution_count": 8,
     "metadata": {},
     "output_type": "execute_result"
    }
   ],
   "source": [
    "example_dt.year"
   ]
  },
  {
   "cell_type": "markdown",
   "metadata": {},
   "source": [
    "Similarly, to get the month and day, we can write"
   ]
  },
  {
   "cell_type": "code",
   "execution_count": 9,
   "metadata": {},
   "outputs": [
    {
     "data": {
      "text/plain": [
       "12"
      ]
     },
     "execution_count": 9,
     "metadata": {},
     "output_type": "execute_result"
    }
   ],
   "source": [
    "example_dt.month"
   ]
  },
  {
   "cell_type": "code",
   "execution_count": 10,
   "metadata": {},
   "outputs": [
    {
     "data": {
      "text/plain": [
       "31"
      ]
     },
     "execution_count": 10,
     "metadata": {},
     "output_type": "execute_result"
    }
   ],
   "source": [
    "example_dt.day"
   ]
  },
  {
   "cell_type": "markdown",
   "metadata": {},
   "source": [
    "**Question 2.1.** Starting with `covid_raw`, create a new DataFrame called `covid` that has all of the columns in `covid_raw`, plus 2 new columns: \n",
    "\n",
    "13. `'month'`: The month for that date as an integer. e.g., 12 for 12/31/20.\n",
    "14. `'day'`: The day for that date as an integer. e.g., 31 for 12/31/20.\n",
    "\n",
    "We won't store the year since we know that the whole dataset is from the year 2020.\n",
    "\n",
    "*Note*: This question, like many in this project, requires several steps. Feel free to create new cells and functions as needed."
   ]
  },
  {
   "cell_type": "code",
   "execution_count": 11,
   "metadata": {},
   "outputs": [],
   "source": [
    "def convert_month(date):\n",
    "    get_month = datetime.datetime.strptime(date, '%m/%d/%y')\n",
    "    month = get_month.month\n",
    "    return month "
   ]
  },
  {
   "cell_type": "code",
   "execution_count": 12,
   "metadata": {},
   "outputs": [],
   "source": [
    "def convert_day(date):\n",
    "    get_day = datetime.datetime.strptime(date, '%m/%d/%y')\n",
    "    day = get_day.day\n",
    "    return day "
   ]
  },
  {
   "cell_type": "code",
   "execution_count": 13,
   "metadata": {},
   "outputs": [],
   "source": [
    "single_month = covid_raw.get('date').apply(convert_month)\n",
    "single_day = covid_raw.get('date').apply(convert_day)"
   ]
  },
  {
   "cell_type": "code",
   "execution_count": 14,
   "metadata": {},
   "outputs": [
    {
     "data": {
      "text/html": [
       "<div>\n",
       "<style scoped>\n",
       "    .dataframe tbody tr th:only-of-type {\n",
       "        vertical-align: middle;\n",
       "    }\n",
       "\n",
       "    .dataframe tbody tr th {\n",
       "        vertical-align: top;\n",
       "    }\n",
       "\n",
       "    .dataframe thead th {\n",
       "        text-align: right;\n",
       "    }\n",
       "</style>\n",
       "<table border=\"1\" class=\"dataframe\">\n",
       "  <thead>\n",
       "    <tr style=\"text-align: right;\">\n",
       "      <th></th>\n",
       "      <th>date</th>\n",
       "      <th>state</th>\n",
       "      <th>death</th>\n",
       "      <th>deathIncrease</th>\n",
       "      <th>hospitalized</th>\n",
       "      <th>hospitalizedIncrease</th>\n",
       "      <th>negative</th>\n",
       "      <th>negativeIncrease</th>\n",
       "      <th>positive</th>\n",
       "      <th>positiveIncrease</th>\n",
       "      <th>totalTestResults</th>\n",
       "      <th>totalTestResultsIncrease</th>\n",
       "      <th>month</th>\n",
       "      <th>day</th>\n",
       "    </tr>\n",
       "  </thead>\n",
       "  <tbody>\n",
       "    <tr>\n",
       "      <th>0</th>\n",
       "      <td>12/31/20</td>\n",
       "      <td>AK</td>\n",
       "      <td>206</td>\n",
       "      <td>3</td>\n",
       "      <td>1023</td>\n",
       "      <td>6</td>\n",
       "      <td>1230289</td>\n",
       "      <td>8163</td>\n",
       "      <td>45461</td>\n",
       "      <td>495</td>\n",
       "      <td>1275750</td>\n",
       "      <td>8658</td>\n",
       "      <td>12</td>\n",
       "      <td>31</td>\n",
       "    </tr>\n",
       "    <tr>\n",
       "      <th>1</th>\n",
       "      <td>12/31/20</td>\n",
       "      <td>AL</td>\n",
       "      <td>4827</td>\n",
       "      <td>53</td>\n",
       "      <td>34184</td>\n",
       "      <td>353</td>\n",
       "      <td>1583419</td>\n",
       "      <td>8344</td>\n",
       "      <td>361226</td>\n",
       "      <td>4406</td>\n",
       "      <td>1944645</td>\n",
       "      <td>12750</td>\n",
       "      <td>12</td>\n",
       "      <td>31</td>\n",
       "    </tr>\n",
       "    <tr>\n",
       "      <th>2</th>\n",
       "      <td>12/31/20</td>\n",
       "      <td>AR</td>\n",
       "      <td>3676</td>\n",
       "      <td>39</td>\n",
       "      <td>11358</td>\n",
       "      <td>87</td>\n",
       "      <td>1864704</td>\n",
       "      <td>10591</td>\n",
       "      <td>225138</td>\n",
       "      <td>2708</td>\n",
       "      <td>2089842</td>\n",
       "      <td>13299</td>\n",
       "      <td>12</td>\n",
       "      <td>31</td>\n",
       "    </tr>\n",
       "    <tr>\n",
       "      <th>3</th>\n",
       "      <td>12/31/20</td>\n",
       "      <td>AZ</td>\n",
       "      <td>8864</td>\n",
       "      <td>146</td>\n",
       "      <td>37257</td>\n",
       "      <td>473</td>\n",
       "      <td>2339635</td>\n",
       "      <td>15472</td>\n",
       "      <td>520207</td>\n",
       "      <td>7718</td>\n",
       "      <td>2859842</td>\n",
       "      <td>23190</td>\n",
       "      <td>12</td>\n",
       "      <td>31</td>\n",
       "    </tr>\n",
       "    <tr>\n",
       "      <th>4</th>\n",
       "      <td>12/31/20</td>\n",
       "      <td>CA</td>\n",
       "      <td>25386</td>\n",
       "      <td>428</td>\n",
       "      <td>0</td>\n",
       "      <td>0</td>\n",
       "      <td>30610103</td>\n",
       "      <td>205169</td>\n",
       "      <td>2245379</td>\n",
       "      <td>27237</td>\n",
       "      <td>32855482</td>\n",
       "      <td>232406</td>\n",
       "      <td>12</td>\n",
       "      <td>31</td>\n",
       "    </tr>\n",
       "    <tr>\n",
       "      <th>...</th>\n",
       "      <td>...</td>\n",
       "      <td>...</td>\n",
       "      <td>...</td>\n",
       "      <td>...</td>\n",
       "      <td>...</td>\n",
       "      <td>...</td>\n",
       "      <td>...</td>\n",
       "      <td>...</td>\n",
       "      <td>...</td>\n",
       "      <td>...</td>\n",
       "      <td>...</td>\n",
       "      <td>...</td>\n",
       "      <td>...</td>\n",
       "      <td>...</td>\n",
       "    </tr>\n",
       "    <tr>\n",
       "      <th>4687</th>\n",
       "      <td>10/1/20</td>\n",
       "      <td>VT</td>\n",
       "      <td>58</td>\n",
       "      <td>0</td>\n",
       "      <td>0</td>\n",
       "      <td>0</td>\n",
       "      <td>160608</td>\n",
       "      <td>1004</td>\n",
       "      <td>1759</td>\n",
       "      <td>3</td>\n",
       "      <td>162367</td>\n",
       "      <td>1007</td>\n",
       "      <td>10</td>\n",
       "      <td>1</td>\n",
       "    </tr>\n",
       "    <tr>\n",
       "      <th>4688</th>\n",
       "      <td>10/1/20</td>\n",
       "      <td>WA</td>\n",
       "      <td>2126</td>\n",
       "      <td>2</td>\n",
       "      <td>7533</td>\n",
       "      <td>50</td>\n",
       "      <td>1780567</td>\n",
       "      <td>13210</td>\n",
       "      <td>90372</td>\n",
       "      <td>633</td>\n",
       "      <td>1870939</td>\n",
       "      <td>13843</td>\n",
       "      <td>10</td>\n",
       "      <td>1</td>\n",
       "    </tr>\n",
       "    <tr>\n",
       "      <th>4689</th>\n",
       "      <td>10/1/20</td>\n",
       "      <td>WI</td>\n",
       "      <td>1358</td>\n",
       "      <td>21</td>\n",
       "      <td>7409</td>\n",
       "      <td>109</td>\n",
       "      <td>1434721</td>\n",
       "      <td>11474</td>\n",
       "      <td>132123</td>\n",
       "      <td>3000</td>\n",
       "      <td>1566844</td>\n",
       "      <td>14474</td>\n",
       "      <td>10</td>\n",
       "      <td>1</td>\n",
       "    </tr>\n",
       "    <tr>\n",
       "      <th>4690</th>\n",
       "      <td>10/1/20</td>\n",
       "      <td>WV</td>\n",
       "      <td>354</td>\n",
       "      <td>4</td>\n",
       "      <td>0</td>\n",
       "      <td>0</td>\n",
       "      <td>550564</td>\n",
       "      <td>4844</td>\n",
       "      <td>16024</td>\n",
       "      <td>176</td>\n",
       "      <td>566588</td>\n",
       "      <td>5020</td>\n",
       "      <td>10</td>\n",
       "      <td>1</td>\n",
       "    </tr>\n",
       "    <tr>\n",
       "      <th>4691</th>\n",
       "      <td>10/1/20</td>\n",
       "      <td>WY</td>\n",
       "      <td>53</td>\n",
       "      <td>3</td>\n",
       "      <td>274</td>\n",
       "      <td>2</td>\n",
       "      <td>95212</td>\n",
       "      <td>0</td>\n",
       "      <td>6083</td>\n",
       "      <td>135</td>\n",
       "      <td>101295</td>\n",
       "      <td>135</td>\n",
       "      <td>10</td>\n",
       "      <td>1</td>\n",
       "    </tr>\n",
       "  </tbody>\n",
       "</table>\n",
       "<p>4692 rows × 14 columns</p>\n",
       "</div>"
      ],
      "text/plain": [
       "          date state  death  deathIncrease  hospitalized  \\\n",
       "0     12/31/20    AK    206              3          1023   \n",
       "1     12/31/20    AL   4827             53         34184   \n",
       "2     12/31/20    AR   3676             39         11358   \n",
       "3     12/31/20    AZ   8864            146         37257   \n",
       "4     12/31/20    CA  25386            428             0   \n",
       "...        ...   ...    ...            ...           ...   \n",
       "4687   10/1/20    VT     58              0             0   \n",
       "4688   10/1/20    WA   2126              2          7533   \n",
       "4689   10/1/20    WI   1358             21          7409   \n",
       "4690   10/1/20    WV    354              4             0   \n",
       "4691   10/1/20    WY     53              3           274   \n",
       "\n",
       "      hospitalizedIncrease  negative  negativeIncrease  positive  \\\n",
       "0                        6   1230289              8163     45461   \n",
       "1                      353   1583419              8344    361226   \n",
       "2                       87   1864704             10591    225138   \n",
       "3                      473   2339635             15472    520207   \n",
       "4                        0  30610103            205169   2245379   \n",
       "...                    ...       ...               ...       ...   \n",
       "4687                     0    160608              1004      1759   \n",
       "4688                    50   1780567             13210     90372   \n",
       "4689                   109   1434721             11474    132123   \n",
       "4690                     0    550564              4844     16024   \n",
       "4691                     2     95212                 0      6083   \n",
       "\n",
       "      positiveIncrease  totalTestResults  totalTestResultsIncrease  month  day  \n",
       "0                  495           1275750                      8658     12   31  \n",
       "1                 4406           1944645                     12750     12   31  \n",
       "2                 2708           2089842                     13299     12   31  \n",
       "3                 7718           2859842                     23190     12   31  \n",
       "4                27237          32855482                    232406     12   31  \n",
       "...                ...               ...                       ...    ...  ...  \n",
       "4687                 3            162367                      1007     10    1  \n",
       "4688               633           1870939                     13843     10    1  \n",
       "4689              3000           1566844                     14474     10    1  \n",
       "4690               176            566588                      5020     10    1  \n",
       "4691               135            101295                       135     10    1  \n",
       "\n",
       "[4692 rows x 14 columns]"
      ]
     },
     "execution_count": 14,
     "metadata": {},
     "output_type": "execute_result"
    }
   ],
   "source": [
    "covid = covid_raw.assign(month = single_month).assign(day = single_day)\n",
    "covid"
   ]
  },
  {
   "cell_type": "code",
   "execution_count": 15,
   "metadata": {
    "deletable": false,
    "editable": false
   },
   "outputs": [
    {
     "data": {
      "text/html": [
       "<p><strong><pre style='display: inline;'>q2_1</pre></strong> passed!</p>"
      ],
      "text/plain": [
       "q2_1 results: All test cases passed!"
      ]
     },
     "execution_count": 15,
     "metadata": {},
     "output_type": "execute_result"
    }
   ],
   "source": [
    "grader.check(\"q2_1\")"
   ]
  },
  {
   "cell_type": "markdown",
   "metadata": {},
   "source": [
    "##### Check your work!\n",
    "\n",
    "Before moving on, it is absolutely crucial that you have the right information in your `covid` DataFrame, since we'll be making frequent use of it throughout the project. The test above below will make sure (as best as it is able) that you've done everything correctly so far. If it fails, make sure your DataFrame has:\n",
    "\n",
    "- 14 columns\n",
    "- 4692 rows\n",
    "- the correct column names\n",
    "\n",
    "If you've verified that `covid` has the right shape and column names, make sure your converted dates are correct."
   ]
  },
  {
   "cell_type": "markdown",
   "metadata": {},
   "source": [
    "<a id='part1_section3'></a>\n",
    "### Section 3: Exploratory Data Analysis 🔎\n",
    "\n",
    "Now let's do some rudimentary exploration of this large dataset in order to find some interesting trends worthy of further investigation. This section will also make sure you're comfortable with the the dataset and understand what all the variables represent. You should use the `covid` DataFrame as a starting point for the problems below."
   ]
  },
  {
   "cell_type": "markdown",
   "metadata": {},
   "source": [
    "**Question 3.1.** What was the nationwide increase in the total number of positive tests between the last day of September and the last day of December? In other words, how many additional positive cases were recorded in the last three months of the year? Save the result as `pos_cases_gained_fall`.\n",
    "\n",
    "*Hint*: The data starts on October 1, but you can still answer this question because the `'positiveIncrease'` column shows the increase in the number of positive tests from the previous day."
   ]
  },
  {
   "cell_type": "code",
   "execution_count": 16,
   "metadata": {},
   "outputs": [
    {
     "data": {
      "text/plain": [
       "12533611"
      ]
     },
     "execution_count": 16,
     "metadata": {},
     "output_type": "execute_result"
    }
   ],
   "source": [
    "pos_cases_gained_fall = covid.get('positiveIncrease').sum()\n",
    "pos_cases_gained_fall"
   ]
  },
  {
   "cell_type": "code",
   "execution_count": 17,
   "metadata": {
    "deletable": false,
    "editable": false
   },
   "outputs": [
    {
     "data": {
      "text/html": [
       "<p><strong><pre style='display: inline;'>q3_1</pre></strong> passed!</p>"
      ],
      "text/plain": [
       "q3_1 results: All test cases passed!"
      ]
     },
     "execution_count": 17,
     "metadata": {},
     "output_type": "execute_result"
    }
   ],
   "source": [
    "grader.check(\"q3_1\")"
   ]
  },
  {
   "cell_type": "markdown",
   "metadata": {},
   "source": [
    "**Question 3.2.** In total, how many COVID-19 tests were administered in the United States in the year 2020? It's relevant to know that no tests were administered in the US in the year 2019. Save the result as `tests_2020`."
   ]
  },
  {
   "cell_type": "code",
   "execution_count": 18,
   "metadata": {},
   "outputs": [
    {
     "data": {
      "text/plain": [
       "212460120"
      ]
     },
     "execution_count": 18,
     "metadata": {},
     "output_type": "execute_result"
    }
   ],
   "source": [
    "tests_2020 = (covid[covid.get('date')=='12/31/20']).get('totalTestResults').sum()\n",
    "tests_2020"
   ]
  },
  {
   "cell_type": "code",
   "execution_count": 19,
   "metadata": {
    "deletable": false,
    "editable": false
   },
   "outputs": [
    {
     "data": {
      "text/html": [
       "<p><strong><pre style='display: inline;'>q3_2</pre></strong> passed!</p>"
      ],
      "text/plain": [
       "q3_2 results: All test cases passed!"
      ]
     },
     "execution_count": 19,
     "metadata": {},
     "output_type": "execute_result"
    }
   ],
   "source": [
    "grader.check(\"q3_2\")"
   ]
  },
  {
   "cell_type": "markdown",
   "metadata": {},
   "source": [
    "**Question 3.3.** What percentage of COVID-19 tests administered in the United States in the year 2020 came back positive? Save the result as `percent_positive_2020`."
   ]
  },
  {
   "cell_type": "code",
   "execution_count": 20,
   "metadata": {},
   "outputs": [
    {
     "data": {
      "text/plain": [
       "9.26236745041846"
      ]
     },
     "execution_count": 20,
     "metadata": {},
     "output_type": "execute_result"
    }
   ],
   "source": [
    "percent_positive_2020 = ((covid[covid.get('date')=='12/31/20']).get('positive').sum()/tests_2020)*100\n",
    "percent_positive_2020"
   ]
  },
  {
   "cell_type": "code",
   "execution_count": 21,
   "metadata": {
    "deletable": false,
    "editable": false
   },
   "outputs": [
    {
     "data": {
      "text/html": [
       "<p><strong><pre style='display: inline;'>q3_3</pre></strong> passed!</p>"
      ],
      "text/plain": [
       "q3_3 results: All test cases passed!"
      ]
     },
     "execution_count": 21,
     "metadata": {},
     "output_type": "execute_result"
    }
   ],
   "source": [
    "grader.check(\"q3_3\")"
   ]
  },
  {
   "cell_type": "markdown",
   "metadata": {},
   "source": [
    "**Question 3.4.** Of all the state-dates recorded in `covid`, which had the greatest single-day increase in number of deaths from the day before in the same state? In `highest_death_state`, store the state, as a two-letter postal code abbreviation. In `highest_death_date`, store the date, as a string formatted as month/day/year, as in the `covid` DataFrame."
   ]
  },
  {
   "cell_type": "code",
   "execution_count": 22,
   "metadata": {},
   "outputs": [
    {
     "data": {
      "text/plain": [
       "'GA'"
      ]
     },
     "execution_count": 22,
     "metadata": {},
     "output_type": "execute_result"
    }
   ],
   "source": [
    "highest_death_state = covid.sort_values(by = 'deathIncrease', ascending = False).get('state').iloc[0]\n",
    "highest_death_state"
   ]
  },
  {
   "cell_type": "code",
   "execution_count": 23,
   "metadata": {
    "deletable": false,
    "editable": false
   },
   "outputs": [
    {
     "data": {
      "text/html": [
       "<p><strong><pre style='display: inline;'>q3_4a</pre></strong> passed!</p>"
      ],
      "text/plain": [
       "q3_4a results: All test cases passed!"
      ]
     },
     "execution_count": 23,
     "metadata": {},
     "output_type": "execute_result"
    }
   ],
   "source": [
    "grader.check(\"q3_4a\")"
   ]
  },
  {
   "cell_type": "code",
   "execution_count": 24,
   "metadata": {},
   "outputs": [
    {
     "data": {
      "text/plain": [
       "'11/3/20'"
      ]
     },
     "execution_count": 24,
     "metadata": {},
     "output_type": "execute_result"
    }
   ],
   "source": [
    "highest_death_date = covid.sort_values(by = 'deathIncrease', ascending = False).get('date').iloc[0]\n",
    "highest_death_date"
   ]
  },
  {
   "cell_type": "code",
   "execution_count": 25,
   "metadata": {
    "deletable": false,
    "editable": false
   },
   "outputs": [
    {
     "data": {
      "text/html": [
       "<p><strong><pre style='display: inline;'>q3_4b</pre></strong> passed!</p>"
      ],
      "text/plain": [
       "q3_4b results: All test cases passed!"
      ]
     },
     "execution_count": 25,
     "metadata": {},
     "output_type": "execute_result"
    }
   ],
   "source": [
    "grader.check(\"q3_4b\")"
   ]
  },
  {
   "cell_type": "markdown",
   "metadata": {},
   "source": [
    "**Question 3.5.** Which state had the most new positive tests per day, on average, during this time period? Save the two-letter postal code abbreviation as `most_new_pos_state`."
   ]
  },
  {
   "cell_type": "code",
   "execution_count": 26,
   "metadata": {},
   "outputs": [
    {
     "data": {
      "text/plain": [
       "'CA'"
      ]
     },
     "execution_count": 26,
     "metadata": {},
     "output_type": "execute_result"
    }
   ],
   "source": [
    "most_new_pos_state = covid.groupby('state').mean().sort_values(by = 'positiveIncrease', ascending = False).index[0]\n",
    "most_new_pos_state"
   ]
  },
  {
   "cell_type": "code",
   "execution_count": 27,
   "metadata": {
    "deletable": false,
    "editable": false
   },
   "outputs": [
    {
     "data": {
      "text/html": [
       "<p><strong><pre style='display: inline;'>q3_5</pre></strong> passed!</p>"
      ],
      "text/plain": [
       "q3_5 results: All test cases passed!"
      ]
     },
     "execution_count": 27,
     "metadata": {},
     "output_type": "execute_result"
    }
   ],
   "source": [
    "grader.check(\"q3_5\")"
   ]
  },
  {
   "cell_type": "markdown",
   "metadata": {},
   "source": [
    "**Question 3.6.** Make a bar chart that shows the median number of new positive tests per day for the 10 states where this median is highest. Make the plot so that the postal codes for the ten states appear on the x-axis and the median number of new positive tests per day appears on the y-axis. Arrange the bars in height from tallest to shortest."
   ]
  },
  {
   "cell_type": "code",
   "execution_count": 28,
   "metadata": {},
   "outputs": [
    {
     "data": {
      "text/html": [
       "<div>\n",
       "<style scoped>\n",
       "    .dataframe tbody tr th:only-of-type {\n",
       "        vertical-align: middle;\n",
       "    }\n",
       "\n",
       "    .dataframe tbody tr th {\n",
       "        vertical-align: top;\n",
       "    }\n",
       "\n",
       "    .dataframe thead th {\n",
       "        text-align: right;\n",
       "    }\n",
       "</style>\n",
       "<table border=\"1\" class=\"dataframe\">\n",
       "  <thead>\n",
       "    <tr style=\"text-align: right;\">\n",
       "      <th></th>\n",
       "      <th>positiveIncrease</th>\n",
       "    </tr>\n",
       "    <tr>\n",
       "      <th>state</th>\n",
       "      <th></th>\n",
       "    </tr>\n",
       "  </thead>\n",
       "  <tbody>\n",
       "    <tr>\n",
       "      <th>CA</th>\n",
       "      <td>9277.0</td>\n",
       "    </tr>\n",
       "    <tr>\n",
       "      <th>TX</th>\n",
       "      <td>9070.0</td>\n",
       "    </tr>\n",
       "    <tr>\n",
       "      <th>IL</th>\n",
       "      <td>7215.0</td>\n",
       "    </tr>\n",
       "    <tr>\n",
       "      <th>OH</th>\n",
       "      <td>6129.5</td>\n",
       "    </tr>\n",
       "    <tr>\n",
       "      <th>FL</th>\n",
       "      <td>6088.0</td>\n",
       "    </tr>\n",
       "    <tr>\n",
       "      <th>NY</th>\n",
       "      <td>4984.5</td>\n",
       "    </tr>\n",
       "    <tr>\n",
       "      <th>PA</th>\n",
       "      <td>4823.0</td>\n",
       "    </tr>\n",
       "    <tr>\n",
       "      <th>IN</th>\n",
       "      <td>4559.0</td>\n",
       "    </tr>\n",
       "    <tr>\n",
       "      <th>WI</th>\n",
       "      <td>4117.5</td>\n",
       "    </tr>\n",
       "    <tr>\n",
       "      <th>MI</th>\n",
       "      <td>4037.5</td>\n",
       "    </tr>\n",
       "  </tbody>\n",
       "</table>\n",
       "</div>"
      ],
      "text/plain": [
       "       positiveIncrease\n",
       "state                  \n",
       "CA               9277.0\n",
       "TX               9070.0\n",
       "IL               7215.0\n",
       "OH               6129.5\n",
       "FL               6088.0\n",
       "NY               4984.5\n",
       "PA               4823.0\n",
       "IN               4559.0\n",
       "WI               4117.5\n",
       "MI               4037.5"
      ]
     },
     "execution_count": 28,
     "metadata": {},
     "output_type": "execute_result"
    }
   ],
   "source": [
    "get_info = covid.groupby('state').median().sort_values(by = 'positiveIncrease', ascending = False).\\\n",
    "get(['positiveIncrease']).reset_index()\n",
    "median_covid = get_info[get_info.index < 10].set_index('state')\n",
    "median_covid"
   ]
  },
  {
   "cell_type": "markdown",
   "metadata": {
    "deletable": false,
    "editable": false
   },
   "source": [
    "<!-- BEGIN QUESTION -->\n",
    "\n",
    "<!--\n",
    "BEGIN QUESTION\n",
    "name: q3_6\n",
    "points: 1\n",
    "manual: True\n",
    "-->"
   ]
  },
  {
   "cell_type": "code",
   "execution_count": 29,
   "metadata": {
    "scrolled": false
   },
   "outputs": [
    {
     "data": {
      "image/png": "[encoded data removed]",
      "text/plain": [
       "<Figure size 432x288 with 1 Axes>"
      ]
     },
     "metadata": {},
     "output_type": "display_data"
    }
   ],
   "source": [
    "# Make your plot here.\n",
    "median_covid.plot(kind='bar', y = 'positiveIncrease');"
   ]
  },
  {
   "cell_type": "markdown",
   "metadata": {},
   "source": [
    "<!-- END QUESTION -->\n",
    "\n",
    "\n",
    "\n",
    "You'll notice that many of the states that appear in this bar chart are large, highly populated states, like California and Texas. In order to get a more accurate view of the impact of COVID at the statewide level, we'll need to consider the population of each state alongside the raw number of positive test results. Hang on to that thought: we'll be looking at state population data later in this project in Section 6. "
   ]
  },
  {
   "cell_type": "markdown",
   "metadata": {},
   "source": [
    "<a id='part1_section4'></a>\n",
    "### Section 4: Exponential Growth? 🚀\n",
    "\n",
    "One thing that has caused great concern throughout the pandemic has been the potential for exponential spread of the virus. That's why we often hear health organizations like the Center for Disease Control and the World Health Organization advocating for people to stay at home early, before the growth of the virus swells out of control. Let's see if the virus was spreading exponentially in the US during fall 2020. The easiest way to do that is to look at a data visualization!\n",
    "\n",
    "**Question 4.1.** Plot a line graph showing the growth of the cumulative **total** number of positive cases in the US throughout the fall. In your plot, the x-axis should represent the days from October 1 to December 31 and the y-axis should represent the total number of positive cases in the US recorded on or before each day. (Don't worry too much about the labels on your x-axis; they may not display in a typical format for a date, and that's fine.) Give your plot a title of \"US total cases\" by using the keyword argument `title=\"US total cases\"` within the `plot` command.\n",
    "\n",
    "*Hint*: You should see a smooth curve that increases from left to right. If your curve looks jagged, or shows any decreases, look carefully at the data being used for your x-axis, and make sure it's in chronological order. "
   ]
  },
  {
   "cell_type": "code",
   "execution_count": 61,
   "metadata": {},
   "outputs": [
    {
     "data": {
      "text/html": [
       "<div>\n",
       "<style scoped>\n",
       "    .dataframe tbody tr th:only-of-type {\n",
       "        vertical-align: middle;\n",
       "    }\n",
       "\n",
       "    .dataframe tbody tr th {\n",
       "        vertical-align: top;\n",
       "    }\n",
       "\n",
       "    .dataframe thead th {\n",
       "        text-align: right;\n",
       "    }\n",
       "</style>\n",
       "<table border=\"1\" class=\"dataframe\">\n",
       "  <thead>\n",
       "    <tr style=\"text-align: right;\">\n",
       "      <th></th>\n",
       "      <th></th>\n",
       "      <th>death</th>\n",
       "      <th>deathIncrease</th>\n",
       "      <th>hospitalized</th>\n",
       "      <th>hospitalizedIncrease</th>\n",
       "      <th>negative</th>\n",
       "      <th>negativeIncrease</th>\n",
       "      <th>positive</th>\n",
       "      <th>positiveIncrease</th>\n",
       "      <th>totalTestResults</th>\n",
       "      <th>totalTestResultsIncrease</th>\n",
       "    </tr>\n",
       "    <tr>\n",
       "      <th>month</th>\n",
       "      <th>day</th>\n",
       "      <th></th>\n",
       "      <th></th>\n",
       "      <th></th>\n",
       "      <th></th>\n",
       "      <th></th>\n",
       "      <th></th>\n",
       "      <th></th>\n",
       "      <th></th>\n",
       "      <th></th>\n",
       "      <th></th>\n",
       "    </tr>\n",
       "  </thead>\n",
       "  <tbody>\n",
       "    <tr>\n",
       "      <th rowspan=\"5\" valign=\"top\">10</th>\n",
       "      <th>1</th>\n",
       "      <td>199206</td>\n",
       "      <td>858</td>\n",
       "      <td>403207</td>\n",
       "      <td>1757</td>\n",
       "      <td>93693962</td>\n",
       "      <td>768248</td>\n",
       "      <td>7190703</td>\n",
       "      <td>45477</td>\n",
       "      <td>100884665</td>\n",
       "      <td>813725</td>\n",
       "    </tr>\n",
       "    <tr>\n",
       "      <th>2</th>\n",
       "      <td>200039</td>\n",
       "      <td>833</td>\n",
       "      <td>404650</td>\n",
       "      <td>1443</td>\n",
       "      <td>94632984</td>\n",
       "      <td>939022</td>\n",
       "      <td>7239728</td>\n",
       "      <td>49025</td>\n",
       "      <td>101872712</td>\n",
       "      <td>988047</td>\n",
       "    </tr>\n",
       "    <tr>\n",
       "      <th>3</th>\n",
       "      <td>200768</td>\n",
       "      <td>729</td>\n",
       "      <td>405738</td>\n",
       "      <td>1088</td>\n",
       "      <td>95430011</td>\n",
       "      <td>797027</td>\n",
       "      <td>7290221</td>\n",
       "      <td>50493</td>\n",
       "      <td>102720232</td>\n",
       "      <td>847520</td>\n",
       "    </tr>\n",
       "    <tr>\n",
       "      <th>4</th>\n",
       "      <td>201142</td>\n",
       "      <td>374</td>\n",
       "      <td>406401</td>\n",
       "      <td>663</td>\n",
       "      <td>96216467</td>\n",
       "      <td>786456</td>\n",
       "      <td>7328155</td>\n",
       "      <td>37934</td>\n",
       "      <td>103544622</td>\n",
       "      <td>824390</td>\n",
       "    </tr>\n",
       "    <tr>\n",
       "      <th>5</th>\n",
       "      <td>201461</td>\n",
       "      <td>319</td>\n",
       "      <td>407848</td>\n",
       "      <td>1447</td>\n",
       "      <td>97047210</td>\n",
       "      <td>830743</td>\n",
       "      <td>7365493</td>\n",
       "      <td>37338</td>\n",
       "      <td>104412703</td>\n",
       "      <td>868081</td>\n",
       "    </tr>\n",
       "    <tr>\n",
       "      <th>...</th>\n",
       "      <th>...</th>\n",
       "      <td>...</td>\n",
       "      <td>...</td>\n",
       "      <td>...</td>\n",
       "      <td>...</td>\n",
       "      <td>...</td>\n",
       "      <td>...</td>\n",
       "      <td>...</td>\n",
       "      <td>...</td>\n",
       "      <td>...</td>\n",
       "      <td>...</td>\n",
       "    </tr>\n",
       "    <tr>\n",
       "      <th rowspan=\"5\" valign=\"top\">12</th>\n",
       "      <th>27</th>\n",
       "      <td>323235</td>\n",
       "      <td>1384</td>\n",
       "      <td>667265</td>\n",
       "      <td>2302</td>\n",
       "      <td>188625216</td>\n",
       "      <td>1011283</td>\n",
       "      <td>18873636</td>\n",
       "      <td>152193</td>\n",
       "      <td>207498852</td>\n",
       "      <td>1163476</td>\n",
       "    </tr>\n",
       "    <tr>\n",
       "      <th>28</th>\n",
       "      <td>324714</td>\n",
       "      <td>1479</td>\n",
       "      <td>670988</td>\n",
       "      <td>3723</td>\n",
       "      <td>189748583</td>\n",
       "      <td>1123367</td>\n",
       "      <td>19036532</td>\n",
       "      <td>162896</td>\n",
       "      <td>208785115</td>\n",
       "      <td>1286263</td>\n",
       "    </tr>\n",
       "    <tr>\n",
       "      <th>29</th>\n",
       "      <td>327999</td>\n",
       "      <td>3285</td>\n",
       "      <td>676249</td>\n",
       "      <td>5261</td>\n",
       "      <td>190697215</td>\n",
       "      <td>948632</td>\n",
       "      <td>19230470</td>\n",
       "      <td>193938</td>\n",
       "      <td>209927685</td>\n",
       "      <td>1142570</td>\n",
       "    </tr>\n",
       "    <tr>\n",
       "      <th>30</th>\n",
       "      <td>331875</td>\n",
       "      <td>3876</td>\n",
       "      <td>681763</td>\n",
       "      <td>5514</td>\n",
       "      <td>191662298</td>\n",
       "      <td>965083</td>\n",
       "      <td>19456234</td>\n",
       "      <td>225764</td>\n",
       "      <td>211118532</td>\n",
       "      <td>1190847</td>\n",
       "    </tr>\n",
       "    <tr>\n",
       "      <th>31</th>\n",
       "      <td>335152</td>\n",
       "      <td>3277</td>\n",
       "      <td>686111</td>\n",
       "      <td>4348</td>\n",
       "      <td>192781283</td>\n",
       "      <td>1118985</td>\n",
       "      <td>19678837</td>\n",
       "      <td>222603</td>\n",
       "      <td>212460120</td>\n",
       "      <td>1341588</td>\n",
       "    </tr>\n",
       "  </tbody>\n",
       "</table>\n",
       "<p>92 rows × 10 columns</p>\n",
       "</div>"
      ],
      "text/plain": [
       "            death  deathIncrease  hospitalized  hospitalizedIncrease  \\\n",
       "month day                                                              \n",
       "10    1    199206            858        403207                  1757   \n",
       "      2    200039            833        404650                  1443   \n",
       "      3    200768            729        405738                  1088   \n",
       "      4    201142            374        406401                   663   \n",
       "      5    201461            319        407848                  1447   \n",
       "...           ...            ...           ...                   ...   \n",
       "12    27   323235           1384        667265                  2302   \n",
       "      28   324714           1479        670988                  3723   \n",
       "      29   327999           3285        676249                  5261   \n",
       "      30   331875           3876        681763                  5514   \n",
       "      31   335152           3277        686111                  4348   \n",
       "\n",
       "            negative  negativeIncrease  positive  positiveIncrease  \\\n",
       "month day                                                            \n",
       "10    1     93693962            768248   7190703             45477   \n",
       "      2     94632984            939022   7239728             49025   \n",
       "      3     95430011            797027   7290221             50493   \n",
       "      4     96216467            786456   7328155             37934   \n",
       "      5     97047210            830743   7365493             37338   \n",
       "...              ...               ...       ...               ...   \n",
       "12    27   188625216           1011283  18873636            152193   \n",
       "      28   189748583           1123367  19036532            162896   \n",
       "      29   190697215            948632  19230470            193938   \n",
       "      30   191662298            965083  19456234            225764   \n",
       "      31   192781283           1118985  19678837            222603   \n",
       "\n",
       "           totalTestResults  totalTestResultsIncrease  \n",
       "month day                                              \n",
       "10    1           100884665                    813725  \n",
       "      2           101872712                    988047  \n",
       "      3           102720232                    847520  \n",
       "      4           103544622                    824390  \n",
       "      5           104412703                    868081  \n",
       "...                     ...                       ...  \n",
       "12    27          207498852                   1163476  \n",
       "      28          208785115                   1286263  \n",
       "      29          209927685                   1142570  \n",
       "      30          211118532                   1190847  \n",
       "      31          212460120                   1341588  \n",
       "\n",
       "[92 rows x 10 columns]"
      ]
     },
     "execution_count": 61,
     "metadata": {},
     "output_type": "execute_result"
    }
   ],
   "source": [
    "total_positive = covid.groupby(['month','day']).sum()\n",
    "total_positive\n"
   ]
  },
  {
   "cell_type": "markdown",
   "metadata": {
    "deletable": false,
    "editable": false
   },
   "source": [
    "<!-- BEGIN QUESTION -->\n",
    "\n",
    "<!--\n",
    "BEGIN QUESTION\n",
    "name: q4_1\n",
    "points: 1\n",
    "manual: True\n",
    "-->"
   ]
  },
  {
   "cell_type": "code",
   "execution_count": 62,
   "metadata": {
    "scrolled": true
   },
   "outputs": [
    {
     "data": {
      "image/png": "[encoded data removed]",
      "text/plain": [
       "<Figure size 432x288 with 1 Axes>"
      ]
     },
     "metadata": {},
     "output_type": "display_data"
    }
   ],
   "source": [
    "# Make your plot here.\n",
    "total_positive.plot(kind = 'line', y = \"positive\",use_index=True, title=\"US total cases\");"
   ]
  },
  {
   "cell_type": "markdown",
   "metadata": {},
   "source": [
    "<!-- END QUESTION -->\n",
    "\n",
    "\n",
    "\n",
    "**Question 4.2.** Now, plot a line graph showing the number of **new** positive cases in the US each day throughout the fall. The x-axis should represent the days from October 1 to December 31, and the y-axis should represent the number of new positive cases recorded each day. Give your plot a title of \"US new cases\" using the `title` keyword argument inside `plot`.\n",
    "\n",
    "*Hint*: Your curve will have more fluctuations and not be as smooth as the one from Question 4.1."
   ]
  },
  {
   "cell_type": "code",
   "execution_count": 63,
   "metadata": {},
   "outputs": [
    {
     "data": {
      "text/html": [
       "<div>\n",
       "<style scoped>\n",
       "    .dataframe tbody tr th:only-of-type {\n",
       "        vertical-align: middle;\n",
       "    }\n",
       "\n",
       "    .dataframe tbody tr th {\n",
       "        vertical-align: top;\n",
       "    }\n",
       "\n",
       "    .dataframe thead th {\n",
       "        text-align: right;\n",
       "    }\n",
       "</style>\n",
       "<table border=\"1\" class=\"dataframe\">\n",
       "  <thead>\n",
       "    <tr style=\"text-align: right;\">\n",
       "      <th></th>\n",
       "      <th></th>\n",
       "      <th>death</th>\n",
       "      <th>deathIncrease</th>\n",
       "      <th>hospitalized</th>\n",
       "      <th>hospitalizedIncrease</th>\n",
       "      <th>negative</th>\n",
       "      <th>negativeIncrease</th>\n",
       "      <th>positive</th>\n",
       "      <th>positiveIncrease</th>\n",
       "      <th>totalTestResults</th>\n",
       "      <th>totalTestResultsIncrease</th>\n",
       "    </tr>\n",
       "    <tr>\n",
       "      <th>month</th>\n",
       "      <th>day</th>\n",
       "      <th></th>\n",
       "      <th></th>\n",
       "      <th></th>\n",
       "      <th></th>\n",
       "      <th></th>\n",
       "      <th></th>\n",
       "      <th></th>\n",
       "      <th></th>\n",
       "      <th></th>\n",
       "      <th></th>\n",
       "    </tr>\n",
       "  </thead>\n",
       "  <tbody>\n",
       "    <tr>\n",
       "      <th rowspan=\"5\" valign=\"top\">10</th>\n",
       "      <th>1</th>\n",
       "      <td>199206</td>\n",
       "      <td>858</td>\n",
       "      <td>403207</td>\n",
       "      <td>1757</td>\n",
       "      <td>93693962</td>\n",
       "      <td>768248</td>\n",
       "      <td>7190703</td>\n",
       "      <td>45477</td>\n",
       "      <td>100884665</td>\n",
       "      <td>813725</td>\n",
       "    </tr>\n",
       "    <tr>\n",
       "      <th>2</th>\n",
       "      <td>200039</td>\n",
       "      <td>833</td>\n",
       "      <td>404650</td>\n",
       "      <td>1443</td>\n",
       "      <td>94632984</td>\n",
       "      <td>939022</td>\n",
       "      <td>7239728</td>\n",
       "      <td>49025</td>\n",
       "      <td>101872712</td>\n",
       "      <td>988047</td>\n",
       "    </tr>\n",
       "    <tr>\n",
       "      <th>3</th>\n",
       "      <td>200768</td>\n",
       "      <td>729</td>\n",
       "      <td>405738</td>\n",
       "      <td>1088</td>\n",
       "      <td>95430011</td>\n",
       "      <td>797027</td>\n",
       "      <td>7290221</td>\n",
       "      <td>50493</td>\n",
       "      <td>102720232</td>\n",
       "      <td>847520</td>\n",
       "    </tr>\n",
       "    <tr>\n",
       "      <th>4</th>\n",
       "      <td>201142</td>\n",
       "      <td>374</td>\n",
       "      <td>406401</td>\n",
       "      <td>663</td>\n",
       "      <td>96216467</td>\n",
       "      <td>786456</td>\n",
       "      <td>7328155</td>\n",
       "      <td>37934</td>\n",
       "      <td>103544622</td>\n",
       "      <td>824390</td>\n",
       "    </tr>\n",
       "    <tr>\n",
       "      <th>5</th>\n",
       "      <td>201461</td>\n",
       "      <td>319</td>\n",
       "      <td>407848</td>\n",
       "      <td>1447</td>\n",
       "      <td>97047210</td>\n",
       "      <td>830743</td>\n",
       "      <td>7365493</td>\n",
       "      <td>37338</td>\n",
       "      <td>104412703</td>\n",
       "      <td>868081</td>\n",
       "    </tr>\n",
       "    <tr>\n",
       "      <th>...</th>\n",
       "      <th>...</th>\n",
       "      <td>...</td>\n",
       "      <td>...</td>\n",
       "      <td>...</td>\n",
       "      <td>...</td>\n",
       "      <td>...</td>\n",
       "      <td>...</td>\n",
       "      <td>...</td>\n",
       "      <td>...</td>\n",
       "      <td>...</td>\n",
       "      <td>...</td>\n",
       "    </tr>\n",
       "    <tr>\n",
       "      <th rowspan=\"5\" valign=\"top\">12</th>\n",
       "      <th>27</th>\n",
       "      <td>323235</td>\n",
       "      <td>1384</td>\n",
       "      <td>667265</td>\n",
       "      <td>2302</td>\n",
       "      <td>188625216</td>\n",
       "      <td>1011283</td>\n",
       "      <td>18873636</td>\n",
       "      <td>152193</td>\n",
       "      <td>207498852</td>\n",
       "      <td>1163476</td>\n",
       "    </tr>\n",
       "    <tr>\n",
       "      <th>28</th>\n",
       "      <td>324714</td>\n",
       "      <td>1479</td>\n",
       "      <td>670988</td>\n",
       "      <td>3723</td>\n",
       "      <td>189748583</td>\n",
       "      <td>1123367</td>\n",
       "      <td>19036532</td>\n",
       "      <td>162896</td>\n",
       "      <td>208785115</td>\n",
       "      <td>1286263</td>\n",
       "    </tr>\n",
       "    <tr>\n",
       "      <th>29</th>\n",
       "      <td>327999</td>\n",
       "      <td>3285</td>\n",
       "      <td>676249</td>\n",
       "      <td>5261</td>\n",
       "      <td>190697215</td>\n",
       "      <td>948632</td>\n",
       "      <td>19230470</td>\n",
       "      <td>193938</td>\n",
       "      <td>209927685</td>\n",
       "      <td>1142570</td>\n",
       "    </tr>\n",
       "    <tr>\n",
       "      <th>30</th>\n",
       "      <td>331875</td>\n",
       "      <td>3876</td>\n",
       "      <td>681763</td>\n",
       "      <td>5514</td>\n",
       "      <td>191662298</td>\n",
       "      <td>965083</td>\n",
       "      <td>19456234</td>\n",
       "      <td>225764</td>\n",
       "      <td>211118532</td>\n",
       "      <td>1190847</td>\n",
       "    </tr>\n",
       "    <tr>\n",
       "      <th>31</th>\n",
       "      <td>335152</td>\n",
       "      <td>3277</td>\n",
       "      <td>686111</td>\n",
       "      <td>4348</td>\n",
       "      <td>192781283</td>\n",
       "      <td>1118985</td>\n",
       "      <td>19678837</td>\n",
       "      <td>222603</td>\n",
       "      <td>212460120</td>\n",
       "      <td>1341588</td>\n",
       "    </tr>\n",
       "  </tbody>\n",
       "</table>\n",
       "<p>92 rows × 10 columns</p>\n",
       "</div>"
      ],
      "text/plain": [
       "            death  deathIncrease  hospitalized  hospitalizedIncrease  \\\n",
       "month day                                                              \n",
       "10    1    199206            858        403207                  1757   \n",
       "      2    200039            833        404650                  1443   \n",
       "      3    200768            729        405738                  1088   \n",
       "      4    201142            374        406401                   663   \n",
       "      5    201461            319        407848                  1447   \n",
       "...           ...            ...           ...                   ...   \n",
       "12    27   323235           1384        667265                  2302   \n",
       "      28   324714           1479        670988                  3723   \n",
       "      29   327999           3285        676249                  5261   \n",
       "      30   331875           3876        681763                  5514   \n",
       "      31   335152           3277        686111                  4348   \n",
       "\n",
       "            negative  negativeIncrease  positive  positiveIncrease  \\\n",
       "month day                                                            \n",
       "10    1     93693962            768248   7190703             45477   \n",
       "      2     94632984            939022   7239728             49025   \n",
       "      3     95430011            797027   7290221             50493   \n",
       "      4     96216467            786456   7328155             37934   \n",
       "      5     97047210            830743   7365493             37338   \n",
       "...              ...               ...       ...               ...   \n",
       "12    27   188625216           1011283  18873636            152193   \n",
       "      28   189748583           1123367  19036532            162896   \n",
       "      29   190697215            948632  19230470            193938   \n",
       "      30   191662298            965083  19456234            225764   \n",
       "      31   192781283           1118985  19678837            222603   \n",
       "\n",
       "           totalTestResults  totalTestResultsIncrease  \n",
       "month day                                              \n",
       "10    1           100884665                    813725  \n",
       "      2           101872712                    988047  \n",
       "      3           102720232                    847520  \n",
       "      4           103544622                    824390  \n",
       "      5           104412703                    868081  \n",
       "...                     ...                       ...  \n",
       "12    27          207498852                   1163476  \n",
       "      28          208785115                   1286263  \n",
       "      29          209927685                   1142570  \n",
       "      30          211118532                   1190847  \n",
       "      31          212460120                   1341588  \n",
       "\n",
       "[92 rows x 10 columns]"
      ]
     },
     "execution_count": 63,
     "metadata": {},
     "output_type": "execute_result"
    }
   ],
   "source": [
    "total_new_positive = covid.groupby(['month','day']).sum()\n",
    "total_new_positive"
   ]
  },
  {
   "cell_type": "markdown",
   "metadata": {
    "deletable": false,
    "editable": false
   },
   "source": [
    "<!-- BEGIN QUESTION -->\n",
    "\n",
    "<!--\n",
    "BEGIN QUESTION\n",
    "name: q4_2\n",
    "points: 1\n",
    "manual: True\n",
    "-->"
   ]
  },
  {
   "cell_type": "code",
   "execution_count": 64,
   "metadata": {},
   "outputs": [
    {
     "data": {
      "image/png": "[encoded data removed]",
      "text/plain": [
       "<Figure size 720x576 with 1 Axes>"
      ]
     },
     "metadata": {},
     "output_type": "display_data"
    }
   ],
   "source": [
    "# Make your plot here.\n",
    "total_new_positive.plot(kind = 'line', use_index=True, y='positiveIncrease', title = 'US new cases',figsize=(10,8));"
   ]
  },
  {
   "cell_type": "markdown",
   "metadata": {},
   "source": [
    "<!-- END QUESTION -->\n",
    "\n",
    "\n",
    "\n",
    "From the plot above, we can see that the number of new cases seems to drop in late December; however, due to the large fluctuations throughout, it is hard to tell if there are any other periods in which the COVID situation was improving, with fewer new cases than before. \n",
    "\n",
    "To solve this problem, we introduce a *[rolling average](https://en.wikipedia.org/wiki/Moving_average)* to calculate the average number of new cases per day over a [seven-day period](https://gillingscovid19.unc.edu/definitions/7-day-average-of-new-cases), thereby smoothing out daily fluctuations and allowing us to see overall patterns more clearly. In the case of COVID-19, the rolling average is a critical tool to show [significant peaks and valleys over a period of time](https://www.georgiaruralhealth.org/blog/what-is-a-moving-average-and-why-is-it-useful/).\n",
    "\n",
    "**Question 4.3.** Construct a new DataFrame  called `covid_roll` indexed by the `'month'` and `'day'`, with just one column `'positiveIncreaseRoll'` containing the 7-day rolling average of new positive cases for the entire US, using the data in the `'positiveIncrease'` column of the `covid` DataFrame. Round each rolling average to two decimal places. Since it's not possible to calculate a seven-day rolling average for the first six days of data, `'positiveIncreaseRoll'` should have NaN or 0 for the first 6 days.\n",
    "\n",
    "To help you get started, we've provided the function `rolling_average` below. Please feel free to use it, but make sure you read through the code to understand what it does. You can also write your own code, if you prefer. \n",
    "\n",
    "*Note*: If you are interested, you may also want to look at the function [`DataFrame.rolling()`](https://pandas.pydata.org/docs/reference/api/pandas.DataFrame.rolling.html) as it is a helpful function for calculating rolling averages in `pandas`, but it's not implemented as part of `babypandas`."
   ]
  },
  {
   "cell_type": "code",
   "execution_count": 34,
   "metadata": {},
   "outputs": [],
   "source": [
    "def rolling_average(array, window_size):\n",
    "    \"\"\"\n",
    "    function to calculate rolling average \n",
    "    \n",
    "    Parameters\n",
    "    ----------\n",
    "    array: array of data values \n",
    "    window_size: the number of data points to include in the rolling average\n",
    "\n",
    "    Returns\n",
    "    -------\n",
    "    rolling_averages: array of rolling averages\n",
    "    \n",
    "    Examples\n",
    "    --------\n",
    "    >>> data = np.array([1,3,5,7,9])\n",
    "    >>> rolling_average(data,2)\n",
    "    [nan, 2.0, 4.0, 6.0, 8.0]\n",
    "    \n",
    "    >>> data = np.array([1,3,5,6,7,8,10])\n",
    "    >>> rolling_average(data,3)\n",
    "    [nan, nan, 3.0, 4.67, 6.0, 7.0, 8.33]\n",
    "    \"\"\"\n",
    "    # Initialize an empty array to store rolling averages.\n",
    "    rolling_averages = np.array([])\n",
    "\n",
    "    for i in np.arange(len(array)):\n",
    "        # Assign np.nan to the initial windows, until we have reached the window_size.\n",
    "        if i < window_size-1:\n",
    "            window_average = np.nan\n",
    "        # Calculate the average of current window.\n",
    "        else: \n",
    "            window_average = round(np.sum(array[i-window_size+1:i+1]) / window_size,2)\n",
    "\n",
    "        # Store the average of current window in our array of rolling averages.\n",
    "        rolling_averages = np.append(rolling_averages, window_average)\n",
    "    return rolling_averages"
   ]
  },
  {
   "cell_type": "code",
   "execution_count": 35,
   "metadata": {},
   "outputs": [
    {
     "data": {
      "text/html": [
       "<div>\n",
       "<style scoped>\n",
       "    .dataframe tbody tr th:only-of-type {\n",
       "        vertical-align: middle;\n",
       "    }\n",
       "\n",
       "    .dataframe tbody tr th {\n",
       "        vertical-align: top;\n",
       "    }\n",
       "\n",
       "    .dataframe thead th {\n",
       "        text-align: right;\n",
       "    }\n",
       "</style>\n",
       "<table border=\"1\" class=\"dataframe\">\n",
       "  <thead>\n",
       "    <tr style=\"text-align: right;\">\n",
       "      <th></th>\n",
       "      <th></th>\n",
       "      <th>positiveIncreaseRoll</th>\n",
       "    </tr>\n",
       "    <tr>\n",
       "      <th>month</th>\n",
       "      <th>day</th>\n",
       "      <th></th>\n",
       "    </tr>\n",
       "  </thead>\n",
       "  <tbody>\n",
       "    <tr>\n",
       "      <th rowspan=\"5\" valign=\"top\">10</th>\n",
       "      <th>1</th>\n",
       "      <td>NaN</td>\n",
       "    </tr>\n",
       "    <tr>\n",
       "      <th>2</th>\n",
       "      <td>NaN</td>\n",
       "    </tr>\n",
       "    <tr>\n",
       "      <th>3</th>\n",
       "      <td>NaN</td>\n",
       "    </tr>\n",
       "    <tr>\n",
       "      <th>4</th>\n",
       "      <td>NaN</td>\n",
       "    </tr>\n",
       "    <tr>\n",
       "      <th>5</th>\n",
       "      <td>NaN</td>\n",
       "    </tr>\n",
       "    <tr>\n",
       "      <th>...</th>\n",
       "      <th>...</th>\n",
       "      <td>...</td>\n",
       "    </tr>\n",
       "    <tr>\n",
       "      <th rowspan=\"5\" valign=\"top\">12</th>\n",
       "      <th>27</th>\n",
       "      <td>179909.29</td>\n",
       "    </tr>\n",
       "    <tr>\n",
       "      <th>28</th>\n",
       "      <td>177670.00</td>\n",
       "    </tr>\n",
       "    <tr>\n",
       "      <th>29</th>\n",
       "      <td>178371.29</td>\n",
       "    </tr>\n",
       "    <tr>\n",
       "      <th>30</th>\n",
       "      <td>179009.71</td>\n",
       "    </tr>\n",
       "    <tr>\n",
       "      <th>31</th>\n",
       "      <td>181674.57</td>\n",
       "    </tr>\n",
       "  </tbody>\n",
       "</table>\n",
       "<p>92 rows × 1 columns</p>\n",
       "</div>"
      ],
      "text/plain": [
       "           positiveIncreaseRoll\n",
       "month day                      \n",
       "10    1                     NaN\n",
       "      2                     NaN\n",
       "      3                     NaN\n",
       "      4                     NaN\n",
       "      5                     NaN\n",
       "...                         ...\n",
       "12    27              179909.29\n",
       "      28              177670.00\n",
       "      29              178371.29\n",
       "      30              179009.71\n",
       "      31              181674.57\n",
       "\n",
       "[92 rows x 1 columns]"
      ]
     },
     "execution_count": 35,
     "metadata": {},
     "output_type": "execute_result"
    }
   ],
   "source": [
    "covid_roll = covid.groupby(by = ['month', 'day']).sum()\n",
    "average = rolling_average(np.array(covid_roll.get('positiveIncrease')), 7)\n",
    "\n",
    "covid_roll = covid_roll.assign(positiveIncreaseRoll = average).get(['positiveIncreaseRoll'])\n",
    "covid_roll"
   ]
  },
  {
   "cell_type": "code",
   "execution_count": 36,
   "metadata": {
    "deletable": false,
    "editable": false
   },
   "outputs": [
    {
     "data": {
      "text/html": [
       "<p><strong><pre style='display: inline;'>q4_3</pre></strong> passed!</p>"
      ],
      "text/plain": [
       "q4_3 results: All test cases passed!"
      ]
     },
     "execution_count": 36,
     "metadata": {},
     "output_type": "execute_result"
    }
   ],
   "source": [
    "grader.check(\"q4_3\")"
   ]
  },
  {
   "cell_type": "markdown",
   "metadata": {},
   "source": [
    "**Question 4.4.** Use the DataFrame `covid_roll` to plot a line graph showing the 7-day average of new cases in the US for each day throughout the fall. Give your plot a title of \"US new cases, 7-day average\". Your plot should look similar to the plot in Question 4.2, but without as many small fluctuations. In other words, the 7-day rolling average should smooth out the curve, reducing the noise and allowing you to see the broader trends more clearly."
   ]
  },
  {
   "cell_type": "markdown",
   "metadata": {
    "deletable": false,
    "editable": false
   },
   "source": [
    "<!-- BEGIN QUESTION -->\n",
    "\n",
    "<!--\n",
    "BEGIN QUESTION\n",
    "name: q4_4\n",
    "points: 1\n",
    "manual: True\n",
    "-->"
   ]
  },
  {
   "cell_type": "code",
   "execution_count": 65,
   "metadata": {},
   "outputs": [
    {
     "data": {
      "image/png": "[encoded data removed]",
      "text/plain": [
       "<Figure size 720x576 with 1 Axes>"
      ]
     },
     "metadata": {},
     "output_type": "display_data"
    }
   ],
   "source": [
    "# Make your plot here.\n",
    "covid_roll.plot(kind = 'line',use_index=True, y = 'positiveIncreaseRoll', title = 'US new cases, 7-day average',figsize=(10,8));"
   ]
  },
  {
   "cell_type": "markdown",
   "metadata": {},
   "source": [
    "<!-- END QUESTION -->\n",
    "\n",
    "\n",
    "\n",
    "**Question 4.5.** Based on the plot above, write a few sentences describing the trends in new cases that you see and your interpretations of the peaks and valleys. What are some reasons that could possibly explain these trends and their timing? Consider special events that occur around these times."
   ]
  },
  {
   "cell_type": "markdown",
   "metadata": {
    "deletable": false,
    "editable": false
   },
   "source": [
    "<!-- BEGIN QUESTION -->\n",
    "\n",
    "<!--\n",
    "BEGIN QUESTION\n",
    "name: q4_5\n",
    "points: 1\n",
    "manual: True\n",
    "-->"
   ]
  },
  {
   "cell_type": "markdown",
   "metadata": {},
   "source": [
    "The new cases of Covid in the U.S. has been increasing during the last quarter of 2020. The total number of Covid positive cases droped a little around the end of November and reached a valley.One possible reason is that most people would stay at home during Thanksgiving.Then, the number of cases went back up as we going into December, because people were traveling back from Thanksgiving vocation to work.The number reached its peak towards late-December.One possible reason is that people from all the U.S. were traveling to home for Christmas. "
   ]
  },
  {
   "cell_type": "markdown",
   "metadata": {},
   "source": [
    "<!-- END QUESTION -->\n",
    "\n",
    "\n",
    "\n",
    "Next, we'll generate a similar plot but at the state level, to see how COVID spread differently in different places.\n",
    "\n",
    "**Question 4.6.** Create a function called `state_trend` that creates a line plot similar to the one you created in Question 4.4, except for an individual state. The function should take as input the two-letter postal code abbreviation for a state and generate the line plot showing that state's seven-day rolling average of new cases, throughout the fall. The function does not need to return anything. Make the title of the plot be \"XX new cases, 7-day average\", where \"XX\" is replaced by the two-letter postal code given as input.\n",
    "\n",
    "Test out your function on a few different states, and use the plots you generate to answer the multiple-choice question below. "
   ]
  },
  {
   "cell_type": "code",
   "execution_count": 69,
   "metadata": {},
   "outputs": [
    {
     "data": {
      "image/png": "[encoded data removed]",
      "text/plain": [
       "<Figure size 432x288 with 1 Axes>"
      ]
     },
     "metadata": {},
     "output_type": "display_data"
    }
   ],
   "source": [
    "# Define your function here.\n",
    "\n",
    "def state_trend(state):\n",
    "    \n",
    "    state_roll= covid.groupby(by=['state','month','day']).sum().reset_index()\n",
    "    state_ave = rolling_average(np.array(state_roll[state_roll.get('state')== state].get('positiveIncrease')),7)\n",
    "\n",
    "    state_roll = state_roll[state_roll.get('state')== state].assign(positiveIncreaseRoll = state_ave ).get(['positiveIncreaseRoll'])\n",
    "    state_roll.plot(kind='line', use_index=True, y ='positiveIncreaseRoll', title = state + \" new cases, 7-day average\" );\n",
    "    \n",
    "# Test out your function here. Try a few different states!\n",
    "state_trend('WY')"
   ]
  },
  {
   "cell_type": "markdown",
   "metadata": {},
   "source": [
    "Which of the following statements is true? Assign 1, 2, 3, or 4 to `q_4_6`.\n",
    "\n",
    "1. The 7-day average number of new cases in Wyoming (WY) was highest around mid-November.\n",
    "2. The 7-day average number of new cases in California (CA) during fall 2020 exceeded 50,000.\n",
    "3. The 7-day average number of new cases in Hawaii (HI) followed approximately the same trend as the national data.\n",
    "4. Colorado (CO) and South Carolina (SC) showed similar patterns in how the virus spread throughout fall 2020."
   ]
  },
  {
   "cell_type": "code",
   "execution_count": 39,
   "metadata": {},
   "outputs": [
    {
     "data": {
      "text/plain": [
       "1"
      ]
     },
     "execution_count": 39,
     "metadata": {},
     "output_type": "execute_result"
    }
   ],
   "source": [
    "q_4_6 = 1\n",
    "q_4_6"
   ]
  },
  {
   "cell_type": "code",
   "execution_count": 40,
   "metadata": {
    "deletable": false,
    "editable": false
   },
   "outputs": [
    {
     "data": {
      "text/html": [
       "<p><strong><pre style='display: inline;'>q4_6</pre></strong> passed!</p>"
      ],
      "text/plain": [
       "q4_6 results: All test cases passed!"
      ]
     },
     "execution_count": 40,
     "metadata": {},
     "output_type": "execute_result"
    }
   ],
   "source": [
    "grader.check(\"q4_6\")"
   ]
  },
  {
   "cell_type": "markdown",
   "metadata": {},
   "source": [
    "<a id='part1_section5'></a>\n",
    "### Section 5: Weekdays vs. Weekends 👔 🆚 🏄\n",
    " \n",
    "In this section, we'll look for patterns involving days of the week. For instance, how does the number of tests on the weekends compare to the number of tests on weekdays? Are there certain days of the week that are more popular for testing, or even days where more patients are hopitalized or dying? Let's find out!\n",
    "\n",
    "**Question 5.1.** Let's first define a function called `day_of_week` which takes in the date, as a string formatted as month/day/year, and outputs a string indicating the day of the week, for example \"Sunday\" or \"Monday\".  \n",
    "\n",
    "For instance, the in-person DSC 10 Midterm Exam is on Friday, April 29th. When we pass in \"4/29/22\" as the input parameter, the function `day_of_week` should return \"Friday\".\n",
    "\n",
    "*Hint*: First use the `.strptime` function you learned about in Section 2, then use the `datetime` function `.weekday`. See  the [documentation](https://docs.python.org/3/library/datetime.html#datetime.date.weekday) to learn how it works.\n",
    "\n",
    "Remember to test your function on some dates to make sure it is working properly."
   ]
  },
  {
   "cell_type": "code",
   "execution_count": 41,
   "metadata": {},
   "outputs": [
    {
     "data": {
      "text/plain": [
       "'Friday'"
      ]
     },
     "execution_count": 41,
     "metadata": {},
     "output_type": "execute_result"
    }
   ],
   "source": [
    "# Define your function here.\n",
    "def day_of_week(date):\n",
    "    if datetime.datetime.strptime(date, '%m/%d/%y').weekday() == 0:\n",
    "        return 'Monday'\n",
    "    elif datetime.datetime.strptime(date, '%m/%d/%y').weekday() == 1:\n",
    "        return 'Tuesday'\n",
    "    elif datetime.datetime.strptime(date, '%m/%d/%y').weekday() == 2:\n",
    "        return 'Wednesday'\n",
    "    elif datetime.datetime.strptime(date, '%m/%d/%y').weekday() == 3:\n",
    "        return 'Thursday'\n",
    "    elif datetime.datetime.strptime(date, '%m/%d/%y').weekday() == 4:\n",
    "        return 'Friday'\n",
    "    elif datetime.datetime.strptime(date, '%m/%d/%y').weekday() == 5:\n",
    "        return 'Saturday'\n",
    "    elif datetime.datetime.strptime(date, '%m/%d/%y').weekday() == 6:\n",
    "        return 'Sunday'\n",
    "    else:\n",
    "        return 'Nah'\n",
    "\n",
    "# Test out your function here. Try a few different dates, \n",
    "# and look at a calendar to make sure your function is working correctly.\n",
    "day_of_week('4/29/22')"
   ]
  },
  {
   "cell_type": "code",
   "execution_count": 42,
   "metadata": {
    "deletable": false,
    "editable": false
   },
   "outputs": [
    {
     "data": {
      "text/html": [
       "<p><strong><pre style='display: inline;'>q5_1</pre></strong> passed!</p>"
      ],
      "text/plain": [
       "q5_1 results: All test cases passed!"
      ]
     },
     "execution_count": 42,
     "metadata": {},
     "output_type": "execute_result"
    }
   ],
   "source": [
    "grader.check(\"q5_1\")"
   ]
  },
  {
   "cell_type": "markdown",
   "metadata": {},
   "source": [
    "**Question 5.2.** Create a new DataFrame called `covid_days` with the same information as `covid`, plus two additional columns:\n",
    "1. `'dayOfWeek'`: This column should contain the corresponding day of the week for each date (such as \"Sunday\" or \"Monday\"). \n",
    "2. `'isWeekend'`: This column should contain boolean values, with `True` corresponding to a weekend day (Saturday or Sunday) and `False` corresponding to any other day.\n",
    "\n",
    "Feel free to create additional functions as needed, but avoid looping through every row in the DataFrame, which takes too long."
   ]
  },
  {
   "cell_type": "code",
   "execution_count": 43,
   "metadata": {},
   "outputs": [],
   "source": [
    "covid_weekdays= covid.assign(dayOfWeek = covid.get('date').apply(day_of_week))\n"
   ]
  },
  {
   "cell_type": "code",
   "execution_count": 44,
   "metadata": {},
   "outputs": [
    {
     "data": {
      "text/plain": [
       "False"
      ]
     },
     "execution_count": 44,
     "metadata": {},
     "output_type": "execute_result"
    }
   ],
   "source": [
    "def is_weekend(day):\n",
    "    if (day == 'Saturday') | (day == 'Sunday'):\n",
    "        return True\n",
    "    else:\n",
    "        return False\n",
    "is_weekend('Friday')"
   ]
  },
  {
   "cell_type": "code",
   "execution_count": 45,
   "metadata": {
    "scrolled": true
   },
   "outputs": [
    {
     "data": {
      "text/html": [
       "<div>\n",
       "<style scoped>\n",
       "    .dataframe tbody tr th:only-of-type {\n",
       "        vertical-align: middle;\n",
       "    }\n",
       "\n",
       "    .dataframe tbody tr th {\n",
       "        vertical-align: top;\n",
       "    }\n",
       "\n",
       "    .dataframe thead th {\n",
       "        text-align: right;\n",
       "    }\n",
       "</style>\n",
       "<table border=\"1\" class=\"dataframe\">\n",
       "  <thead>\n",
       "    <tr style=\"text-align: right;\">\n",
       "      <th></th>\n",
       "      <th>date</th>\n",
       "      <th>state</th>\n",
       "      <th>death</th>\n",
       "      <th>deathIncrease</th>\n",
       "      <th>hospitalized</th>\n",
       "      <th>hospitalizedIncrease</th>\n",
       "      <th>negative</th>\n",
       "      <th>negativeIncrease</th>\n",
       "      <th>positive</th>\n",
       "      <th>positiveIncrease</th>\n",
       "      <th>totalTestResults</th>\n",
       "      <th>totalTestResultsIncrease</th>\n",
       "      <th>month</th>\n",
       "      <th>day</th>\n",
       "      <th>dayOfWeek</th>\n",
       "      <th>isWeekend</th>\n",
       "    </tr>\n",
       "  </thead>\n",
       "  <tbody>\n",
       "    <tr>\n",
       "      <th>0</th>\n",
       "      <td>12/31/20</td>\n",
       "      <td>AK</td>\n",
       "      <td>206</td>\n",
       "      <td>3</td>\n",
       "      <td>1023</td>\n",
       "      <td>6</td>\n",
       "      <td>1230289</td>\n",
       "      <td>8163</td>\n",
       "      <td>45461</td>\n",
       "      <td>495</td>\n",
       "      <td>1275750</td>\n",
       "      <td>8658</td>\n",
       "      <td>12</td>\n",
       "      <td>31</td>\n",
       "      <td>Thursday</td>\n",
       "      <td>False</td>\n",
       "    </tr>\n",
       "    <tr>\n",
       "      <th>1</th>\n",
       "      <td>12/31/20</td>\n",
       "      <td>AL</td>\n",
       "      <td>4827</td>\n",
       "      <td>53</td>\n",
       "      <td>34184</td>\n",
       "      <td>353</td>\n",
       "      <td>1583419</td>\n",
       "      <td>8344</td>\n",
       "      <td>361226</td>\n",
       "      <td>4406</td>\n",
       "      <td>1944645</td>\n",
       "      <td>12750</td>\n",
       "      <td>12</td>\n",
       "      <td>31</td>\n",
       "      <td>Thursday</td>\n",
       "      <td>False</td>\n",
       "    </tr>\n",
       "    <tr>\n",
       "      <th>2</th>\n",
       "      <td>12/31/20</td>\n",
       "      <td>AR</td>\n",
       "      <td>3676</td>\n",
       "      <td>39</td>\n",
       "      <td>11358</td>\n",
       "      <td>87</td>\n",
       "      <td>1864704</td>\n",
       "      <td>10591</td>\n",
       "      <td>225138</td>\n",
       "      <td>2708</td>\n",
       "      <td>2089842</td>\n",
       "      <td>13299</td>\n",
       "      <td>12</td>\n",
       "      <td>31</td>\n",
       "      <td>Thursday</td>\n",
       "      <td>False</td>\n",
       "    </tr>\n",
       "    <tr>\n",
       "      <th>3</th>\n",
       "      <td>12/31/20</td>\n",
       "      <td>AZ</td>\n",
       "      <td>8864</td>\n",
       "      <td>146</td>\n",
       "      <td>37257</td>\n",
       "      <td>473</td>\n",
       "      <td>2339635</td>\n",
       "      <td>15472</td>\n",
       "      <td>520207</td>\n",
       "      <td>7718</td>\n",
       "      <td>2859842</td>\n",
       "      <td>23190</td>\n",
       "      <td>12</td>\n",
       "      <td>31</td>\n",
       "      <td>Thursday</td>\n",
       "      <td>False</td>\n",
       "    </tr>\n",
       "    <tr>\n",
       "      <th>4</th>\n",
       "      <td>12/31/20</td>\n",
       "      <td>CA</td>\n",
       "      <td>25386</td>\n",
       "      <td>428</td>\n",
       "      <td>0</td>\n",
       "      <td>0</td>\n",
       "      <td>30610103</td>\n",
       "      <td>205169</td>\n",
       "      <td>2245379</td>\n",
       "      <td>27237</td>\n",
       "      <td>32855482</td>\n",
       "      <td>232406</td>\n",
       "      <td>12</td>\n",
       "      <td>31</td>\n",
       "      <td>Thursday</td>\n",
       "      <td>False</td>\n",
       "    </tr>\n",
       "    <tr>\n",
       "      <th>...</th>\n",
       "      <td>...</td>\n",
       "      <td>...</td>\n",
       "      <td>...</td>\n",
       "      <td>...</td>\n",
       "      <td>...</td>\n",
       "      <td>...</td>\n",
       "      <td>...</td>\n",
       "      <td>...</td>\n",
       "      <td>...</td>\n",
       "      <td>...</td>\n",
       "      <td>...</td>\n",
       "      <td>...</td>\n",
       "      <td>...</td>\n",
       "      <td>...</td>\n",
       "      <td>...</td>\n",
       "      <td>...</td>\n",
       "    </tr>\n",
       "    <tr>\n",
       "      <th>4687</th>\n",
       "      <td>10/1/20</td>\n",
       "      <td>VT</td>\n",
       "      <td>58</td>\n",
       "      <td>0</td>\n",
       "      <td>0</td>\n",
       "      <td>0</td>\n",
       "      <td>160608</td>\n",
       "      <td>1004</td>\n",
       "      <td>1759</td>\n",
       "      <td>3</td>\n",
       "      <td>162367</td>\n",
       "      <td>1007</td>\n",
       "      <td>10</td>\n",
       "      <td>1</td>\n",
       "      <td>Thursday</td>\n",
       "      <td>False</td>\n",
       "    </tr>\n",
       "    <tr>\n",
       "      <th>4688</th>\n",
       "      <td>10/1/20</td>\n",
       "      <td>WA</td>\n",
       "      <td>2126</td>\n",
       "      <td>2</td>\n",
       "      <td>7533</td>\n",
       "      <td>50</td>\n",
       "      <td>1780567</td>\n",
       "      <td>13210</td>\n",
       "      <td>90372</td>\n",
       "      <td>633</td>\n",
       "      <td>1870939</td>\n",
       "      <td>13843</td>\n",
       "      <td>10</td>\n",
       "      <td>1</td>\n",
       "      <td>Thursday</td>\n",
       "      <td>False</td>\n",
       "    </tr>\n",
       "    <tr>\n",
       "      <th>4689</th>\n",
       "      <td>10/1/20</td>\n",
       "      <td>WI</td>\n",
       "      <td>1358</td>\n",
       "      <td>21</td>\n",
       "      <td>7409</td>\n",
       "      <td>109</td>\n",
       "      <td>1434721</td>\n",
       "      <td>11474</td>\n",
       "      <td>132123</td>\n",
       "      <td>3000</td>\n",
       "      <td>1566844</td>\n",
       "      <td>14474</td>\n",
       "      <td>10</td>\n",
       "      <td>1</td>\n",
       "      <td>Thursday</td>\n",
       "      <td>False</td>\n",
       "    </tr>\n",
       "    <tr>\n",
       "      <th>4690</th>\n",
       "      <td>10/1/20</td>\n",
       "      <td>WV</td>\n",
       "      <td>354</td>\n",
       "      <td>4</td>\n",
       "      <td>0</td>\n",
       "      <td>0</td>\n",
       "      <td>550564</td>\n",
       "      <td>4844</td>\n",
       "      <td>16024</td>\n",
       "      <td>176</td>\n",
       "      <td>566588</td>\n",
       "      <td>5020</td>\n",
       "      <td>10</td>\n",
       "      <td>1</td>\n",
       "      <td>Thursday</td>\n",
       "      <td>False</td>\n",
       "    </tr>\n",
       "    <tr>\n",
       "      <th>4691</th>\n",
       "      <td>10/1/20</td>\n",
       "      <td>WY</td>\n",
       "      <td>53</td>\n",
       "      <td>3</td>\n",
       "      <td>274</td>\n",
       "      <td>2</td>\n",
       "      <td>95212</td>\n",
       "      <td>0</td>\n",
       "      <td>6083</td>\n",
       "      <td>135</td>\n",
       "      <td>101295</td>\n",
       "      <td>135</td>\n",
       "      <td>10</td>\n",
       "      <td>1</td>\n",
       "      <td>Thursday</td>\n",
       "      <td>False</td>\n",
       "    </tr>\n",
       "  </tbody>\n",
       "</table>\n",
       "<p>4692 rows × 16 columns</p>\n",
       "</div>"
      ],
      "text/plain": [
       "          date state  death  deathIncrease  hospitalized  \\\n",
       "0     12/31/20    AK    206              3          1023   \n",
       "1     12/31/20    AL   4827             53         34184   \n",
       "2     12/31/20    AR   3676             39         11358   \n",
       "3     12/31/20    AZ   8864            146         37257   \n",
       "4     12/31/20    CA  25386            428             0   \n",
       "...        ...   ...    ...            ...           ...   \n",
       "4687   10/1/20    VT     58              0             0   \n",
       "4688   10/1/20    WA   2126              2          7533   \n",
       "4689   10/1/20    WI   1358             21          7409   \n",
       "4690   10/1/20    WV    354              4             0   \n",
       "4691   10/1/20    WY     53              3           274   \n",
       "\n",
       "      hospitalizedIncrease  negative  negativeIncrease  positive  \\\n",
       "0                        6   1230289              8163     45461   \n",
       "1                      353   1583419              8344    361226   \n",
       "2                       87   1864704             10591    225138   \n",
       "3                      473   2339635             15472    520207   \n",
       "4                        0  30610103            205169   2245379   \n",
       "...                    ...       ...               ...       ...   \n",
       "4687                     0    160608              1004      1759   \n",
       "4688                    50   1780567             13210     90372   \n",
       "4689                   109   1434721             11474    132123   \n",
       "4690                     0    550564              4844     16024   \n",
       "4691                     2     95212                 0      6083   \n",
       "\n",
       "      positiveIncrease  totalTestResults  totalTestResultsIncrease  month  \\\n",
       "0                  495           1275750                      8658     12   \n",
       "1                 4406           1944645                     12750     12   \n",
       "2                 2708           2089842                     13299     12   \n",
       "3                 7718           2859842                     23190     12   \n",
       "4                27237          32855482                    232406     12   \n",
       "...                ...               ...                       ...    ...   \n",
       "4687                 3            162367                      1007     10   \n",
       "4688               633           1870939                     13843     10   \n",
       "4689              3000           1566844                     14474     10   \n",
       "4690               176            566588                      5020     10   \n",
       "4691               135            101295                       135     10   \n",
       "\n",
       "      day dayOfWeek  isWeekend  \n",
       "0      31  Thursday      False  \n",
       "1      31  Thursday      False  \n",
       "2      31  Thursday      False  \n",
       "3      31  Thursday      False  \n",
       "4      31  Thursday      False  \n",
       "...   ...       ...        ...  \n",
       "4687    1  Thursday      False  \n",
       "4688    1  Thursday      False  \n",
       "4689    1  Thursday      False  \n",
       "4690    1  Thursday      False  \n",
       "4691    1  Thursday      False  \n",
       "\n",
       "[4692 rows x 16 columns]"
      ]
     },
     "execution_count": 45,
     "metadata": {},
     "output_type": "execute_result"
    }
   ],
   "source": [
    "covid_days = covid_weekdays.assign(isWeekend = covid_weekdays.get('dayOfWeek').apply(is_weekend))\n",
    "covid_days"
   ]
  },
  {
   "cell_type": "code",
   "execution_count": 46,
   "metadata": {
    "deletable": false,
    "editable": false
   },
   "outputs": [
    {
     "data": {
      "text/html": [
       "<p><strong><pre style='display: inline;'>q5_2</pre></strong> passed!</p>"
      ],
      "text/plain": [
       "q5_2 results: All test cases passed!"
      ]
     },
     "execution_count": 46,
     "metadata": {},
     "output_type": "execute_result"
    }
   ],
   "source": [
    "grader.check(\"q5_2\")"
   ]
  },
  {
   "cell_type": "markdown",
   "metadata": {},
   "source": [
    "**Question 5.3.** Now, using the `covid_days` DataFrame you just created, calculate two values:\n",
    "1. `weekday_pos_avg`: The average number of new positive tests per weekday, throughout the US.\n",
    "2. `weekend_pos_avg`: The average number of new positive tests per weekend day, throughout the US."
   ]
  },
  {
   "cell_type": "code",
   "execution_count": 47,
   "metadata": {
    "scrolled": true
   },
   "outputs": [
    {
     "data": {
      "text/plain": [
       "2713.0121806298275"
      ]
     },
     "execution_count": 47,
     "metadata": {},
     "output_type": "execute_result"
    }
   ],
   "source": [
    "weekday_pos_avg = covid_days[covid_days.get('isWeekend')==False].get('positiveIncrease').mean()\n",
    "weekday_pos_avg"
   ]
  },
  {
   "cell_type": "code",
   "execution_count": 48,
   "metadata": {
    "deletable": false,
    "editable": false
   },
   "outputs": [
    {
     "data": {
      "text/html": [
       "<p><strong><pre style='display: inline;'>q5_3a</pre></strong> passed!</p>"
      ],
      "text/plain": [
       "q5_3a results: All test cases passed!"
      ]
     },
     "execution_count": 48,
     "metadata": {},
     "output_type": "execute_result"
    }
   ],
   "source": [
    "grader.check(\"q5_3a\")"
   ]
  },
  {
   "cell_type": "code",
   "execution_count": 49,
   "metadata": {
    "scrolled": true
   },
   "outputs": [
    {
     "data": {
      "text/plain": [
       "2565.318250377074"
      ]
     },
     "execution_count": 49,
     "metadata": {},
     "output_type": "execute_result"
    }
   ],
   "source": [
    "weekend_pos_avg = covid_days[covid_days.get('isWeekend')== True].get('positiveIncrease').mean()\n",
    "weekend_pos_avg"
   ]
  },
  {
   "cell_type": "code",
   "execution_count": 50,
   "metadata": {
    "deletable": false,
    "editable": false
   },
   "outputs": [
    {
     "data": {
      "text/html": [
       "<p><strong><pre style='display: inline;'>q5_3b</pre></strong> passed!</p>"
      ],
      "text/plain": [
       "q5_3b results: All test cases passed!"
      ]
     },
     "execution_count": 50,
     "metadata": {},
     "output_type": "execute_result"
    }
   ],
   "source": [
    "grader.check(\"q5_3b\")"
   ]
  },
  {
   "cell_type": "markdown",
   "metadata": {},
   "source": [
    "**Question 5.4.** What can you conclude, based on the data, about the difference in weekend and weekday tests? Assign 1, 2, 3, or 4 to `q_5_4`.\n",
    "\n",
    "1. Labs and testing facilities are more likely to be closed on the weekends, which causes the decrease in positive tests on the weekends.\n",
    "2. People are generally at work or school and interacting with more people on weekdays which causes the increase in positive tests on the weekdays.\n",
    "3. There is no reason for the difference between weekend and weekday tests, since there is often a lag between when tests are administered and when results come back.\n",
    "4. There is not enough information to conclude any of the above."
   ]
  },
  {
   "cell_type": "code",
   "execution_count": 51,
   "metadata": {},
   "outputs": [
    {
     "data": {
      "text/plain": [
       "4"
      ]
     },
     "execution_count": 51,
     "metadata": {},
     "output_type": "execute_result"
    }
   ],
   "source": [
    "q_5_4 = 4\n",
    "q_5_4"
   ]
  },
  {
   "cell_type": "code",
   "execution_count": 52,
   "metadata": {
    "deletable": false,
    "editable": false
   },
   "outputs": [
    {
     "data": {
      "text/html": [
       "<p><strong><pre style='display: inline;'>q5_4</pre></strong> passed!</p>"
      ],
      "text/plain": [
       "q5_4 results: All test cases passed!"
      ]
     },
     "execution_count": 52,
     "metadata": {},
     "output_type": "execute_result"
    }
   ],
   "source": [
    "grader.check(\"q5_4\")"
   ]
  },
  {
   "cell_type": "markdown",
   "metadata": {},
   "source": [
    "**Question 5.5.** Next, let's investigate which day of the week has the largest proportion of positive tests. Create a DataFrame indexed by `'dayOfWeek'`, with just one column called `'proportionPositive'` that contains the proportion of all tests recorded on that day of the week (`'totalTestResultsIncrease'`) that had a positive result (`'positiveIncrease'`). Sort your DataFrame in descending order of `'proportionPositive'` and save your result as `positives_by_day`."
   ]
  },
  {
   "cell_type": "code",
   "execution_count": 53,
   "metadata": {
    "scrolled": true
   },
   "outputs": [
    {
     "data": {
      "text/plain": [
       "Ellipsis"
      ]
     },
     "execution_count": 53,
     "metadata": {},
     "output_type": "execute_result"
    }
   ],
   "source": [
    "positives_by_day = ...\n",
    "positives_by_day"
   ]
  },
  {
   "cell_type": "code",
   "execution_count": 54,
   "metadata": {
    "deletable": false,
    "editable": false
   },
   "outputs": [
    {
     "data": {
      "text/html": [
       "<p><strong style='color: red;'><pre style='display: inline;'>q5_5</pre> results:</strong></p><p><strong><pre style='display: inline;'>q5_5 - 1</pre> result:</strong></p><pre>    Trying:\n",
       "        isinstance(positives_by_day, bpd.bpd.DataFrame) and len(positives_by_day.columns) == 1 # Just one column!\n",
       "    Expecting:\n",
       "        True\n",
       "    **********************************************************************\n",
       "    Line 1, in q5_5 0\n",
       "    Failed example:\n",
       "        isinstance(positives_by_day, bpd.bpd.DataFrame) and len(positives_by_day.columns) == 1 # Just one column!\n",
       "    Expected:\n",
       "        True\n",
       "    Got:\n",
       "        False\n",
       "</pre>"
      ],
      "text/plain": [
       "q5_5 results:\n",
       "    q5_5 - 1 result:\n",
       "        Trying:\n",
       "            isinstance(positives_by_day, bpd.bpd.DataFrame) and len(positives_by_day.columns) == 1 # Just one column!\n",
       "        Expecting:\n",
       "            True\n",
       "        **********************************************************************\n",
       "        Line 1, in q5_5 0\n",
       "        Failed example:\n",
       "            isinstance(positives_by_day, bpd.bpd.DataFrame) and len(positives_by_day.columns) == 1 # Just one column!\n",
       "        Expected:\n",
       "            True\n",
       "        Got:\n",
       "            False"
      ]
     },
     "execution_count": 54,
     "metadata": {},
     "output_type": "execute_result"
    }
   ],
   "source": [
    "grader.check(\"q5_5\")"
   ]
  },
  {
   "cell_type": "markdown",
   "metadata": {},
   "source": [
    "In order to visualize the data in the `positives_by_day` DataFrame, we could create a bar chart as follows."
   ]
  },
  {
   "cell_type": "code",
   "execution_count": 55,
   "metadata": {},
   "outputs": [
    {
     "ename": "AttributeError",
     "evalue": "'ellipsis' object has no attribute 'plot'",
     "output_type": "error",
     "traceback": [
      "\u001b[0;31m---------------------------------------------------------------------------\u001b[0m",
      "\u001b[0;31mAttributeError\u001b[0m                            Traceback (most recent call last)",
      "\u001b[0;32m/tmp/ipykernel_205/4293791422.py\u001b[0m in \u001b[0;36m<module>\u001b[0;34m\u001b[0m\n\u001b[0;32m----> 1\u001b[0;31m \u001b[0mpositives_by_day\u001b[0m\u001b[0;34m.\u001b[0m\u001b[0mplot\u001b[0m\u001b[0;34m(\u001b[0m\u001b[0mkind\u001b[0m\u001b[0;34m=\u001b[0m\u001b[0;34m'bar'\u001b[0m\u001b[0;34m,\u001b[0m \u001b[0mtitle\u001b[0m\u001b[0;34m=\u001b[0m\u001b[0;34m'Proportion of Positive Tests on Each Day of the Week'\u001b[0m\u001b[0;34m)\u001b[0m\u001b[0;34m;\u001b[0m\u001b[0;34m\u001b[0m\u001b[0;34m\u001b[0m\u001b[0m\n\u001b[0m",
      "\u001b[0;31mAttributeError\u001b[0m: 'ellipsis' object has no attribute 'plot'"
     ]
    }
   ],
   "source": [
    "positives_by_day.plot(kind='bar', title='Proportion of Positive Tests on Each Day of the Week');"
   ]
  },
  {
   "cell_type": "markdown",
   "metadata": {},
   "source": [
    "Unfortunately, this bar chart fails to capture something important, which is that the categories (the days of the week) are inherently ordered. It would be more meaningful to see this bar chart with the bars arranged not in descending order of proportions, but in chronological order of days of the week: \"Sunday\", \"Monday\", \"Tuesday\", \"Wednesday\", \"Thursday\", \"Friday\", \"Saturday\".\n",
    "\n",
    "**Question 5.6.** Fill in the missing code to define the variable `chronological_proportions` such that the cell below produces the same bar chart as above, except with the bars arranged in chronological order. Feel free to add additional lines of code as needed, but don't remove or edit anything that's already provided."
   ]
  },
  {
   "cell_type": "code",
   "execution_count": null,
   "metadata": {},
   "outputs": [],
   "source": [
    "chronological_days = np.array(['Sunday','Monday', 'Tuesday','Wednesday','Thursday','Friday','Saturday'])\n",
    "\n",
    "chronological_proportions = ...\n",
    "\n",
    "chronological_df = bpd.DataFrame().assign(\n",
    "    dayOfWeek = chronological_days,\n",
    "    proportionPositive = chronological_proportions\n",
    ").set_index('dayOfWeek')\n",
    "\n",
    "chronological_df.plot(kind='bar', title='Proportion of Positive Tests on Each Day of the Week');"
   ]
  },
  {
   "cell_type": "code",
   "execution_count": null,
   "metadata": {
    "deletable": false,
    "editable": false
   },
   "outputs": [],
   "source": [
    "grader.check(\"q5_6\")"
   ]
  },
  {
   "cell_type": "markdown",
   "metadata": {},
   "source": [
    "**Question 5.7.** True or False? Set the variable `q_5_7` to the boolean `True` or `False`.\n",
    "\n",
    "> If you need to get COVID tested weekly at a place that provides instant results, you should make a habit of getting your tests done on Mondays, since your chances of getting a positive test result are less if you test on that day. "
   ]
  },
  {
   "cell_type": "code",
   "execution_count": null,
   "metadata": {},
   "outputs": [],
   "source": [
    "q_5_7 = ...\n",
    "q_5_7"
   ]
  },
  {
   "cell_type": "code",
   "execution_count": null,
   "metadata": {
    "deletable": false,
    "editable": false
   },
   "outputs": [],
   "source": [
    "grader.check(\"q5_7\")"
   ]
  },
  {
   "cell_type": "markdown",
   "metadata": {},
   "source": [
    "There certainly seem to be noticeable weekend/weekday differences for COVID tests. Let's now see if there are similar weekend/weekday differences for hospitalizations and deaths.\n",
    "\n",
    "**Question 5.8.** Create a DataFrame called `hosp_deaths`, indexed by month and day, containing three columns:\n",
    "1. `'hospitalizedIncrease'`: The total number of new hospitalizations recorded on that day, throughout the entire US.\n",
    "2. `'deathIncrease'`: The total number of new deaths recorded on that day, throughout the entire US.\n",
    "3. `'isWeekend'`: `True` for a weekend day (Saturday or Sunday) and `False` otherwise.\n",
    "\n",
    "Feel free to create additional functions as needed, but avoid looping through every row in the DataFrame, which takes too long.\n",
    "\n",
    "*Hint*: Start with `covid_days` because that already contains information about which days are weekends."
   ]
  },
  {
   "cell_type": "code",
   "execution_count": null,
   "metadata": {},
   "outputs": [],
   "source": [
    "hosp_deaths = ...\n",
    "hosp_deaths"
   ]
  },
  {
   "cell_type": "code",
   "execution_count": null,
   "metadata": {
    "deletable": false,
    "editable": false
   },
   "outputs": [],
   "source": [
    "grader.check(\"q5_8\")"
   ]
  },
  {
   "cell_type": "markdown",
   "metadata": {},
   "source": [
    "Now we can create a line plot showing the daily trends of nationwide hospitalizations and deaths. The next cell does that for you, marking each weekend with `**` on the x-axis. Do you see any weekly fluctuations?"
   ]
  },
  {
   "cell_type": "code",
   "execution_count": null,
   "metadata": {
    "scrolled": true
   },
   "outputs": [],
   "source": [
    "hosp_deaths.plot(kind='line')\n",
    "\n",
    "# Don't edit this part below; simply run it; this code is labeling weekends on the x-axis with **.\n",
    "weekends = hosp_deaths.get('isWeekend').values.astype(int).astype(str)\n",
    "weekends = np.where(weekends == '0', '', weekends)\n",
    "weekends = np.where(weekends != '', '*', weekends)\n",
    "plt.xticks(np.arange(len(weekends)), weekends);\n",
    "plt.xlabel('Each ** represents a weekend');"
   ]
  },
  {
   "cell_type": "markdown",
   "metadata": {},
   "source": [
    "Do people tend to avoid dying on the weekend? Probably not. More likely, the wavy pattern is a byproduct of imperfect data keeping - weekend deaths tend to be reported during the week, when more hospital staff are working. \n",
    "\n",
    "The large spike in the hospitalization data is also an anomaly, likely an error in the data."
   ]
  },
  {
   "cell_type": "markdown",
   "metadata": {},
   "source": [
    "<a id='part1_section6'></a>\n",
    "### Section 6: Rates Per 100,000 People 👩‍🦱👦🏾🧑👩🏿‍🦰👩🏽‍🦱🧔👱‍\n",
    "\n",
    "Without knowing the population of each state, purely comparing the number of positive tests gives a very biased impression of which states are faring better in their battle against the coronavirus. As we saw in Question 3.6, for example, populous states like California and Texas are likely to have more positive tests than states like Wyoming and Vermont, simply because they have far more people. In order to fairly compare states with different populations, we need to look at proportions, or rates. \n",
    "\n",
    "In this section, you will use another data set of estimated state populations to add some perspective to the COVID-19 numbers you have seen so far. The population data comes from the [U.S. Census Bureau's Annual Estimates of the Resident Population for the United States, Regions, States, and the District of Columbia: April 1, 2020 to July 1, 2021](https://data.census.gov/cedsci/table?tid=PEPPOP2021.NST_EST2021_POP&hidePreview=false). We will use their annual estimates for July 1, 2020.\n",
    "\n",
    "Let's begin by reading in the population data located at `data/census_data.csv`."
   ]
  },
  {
   "cell_type": "code",
   "execution_count": null,
   "metadata": {},
   "outputs": [],
   "source": [
    "census_data = bpd.read_csv('data/census_data.csv')\n",
    "census_data"
   ]
  },
  {
   "cell_type": "markdown",
   "metadata": {},
   "source": [
    "The first thing you might notice is that in this data set, states are given by their full name, instead of their two-letter postal code abbreviation. Let's address this mismatch in our two different data sources. To do that, we'll need a way of converting between state name and postal code. For that, we'll introduce yet another data set, this one from the [US Postal Service](https://pe.usps.com/text/pub28/28apb.htm). \n",
    "\n",
    "The data is in `data/postal_codes.csv`."
   ]
  },
  {
   "cell_type": "code",
   "execution_count": null,
   "metadata": {},
   "outputs": [],
   "source": [
    "postal_codes = bpd.read_csv('data/postal_codes.csv')\n",
    "postal_codes"
   ]
  },
  {
   "cell_type": "markdown",
   "metadata": {},
   "source": [
    "Notice that this DataFrame has more rows, because in addition to the 50 states and the District of Columbia, this data set also includes US territories, like American Samoa (AS) and Guam (GU).\n",
    "\n",
    "**Question 6.1.** Write a function called `to_postal_code` that takes as input the name of a US state or territory, and returns the two-letter postal code abbreviation. Then, write another function called `to_name` that takes as input the two-letter postal code of a US state or territory, and returns its name. \n",
    "\n",
    "It's okay if your functions don't work on invalid input, such as a postal code of 'ZZ' or a state name of 'Zimbabwe', but they should work correctly for all the states and territories listed in `postal_codes`. Test out each of your functions on a a few inputs to make sure they are working properly."
   ]
  },
  {
   "cell_type": "code",
   "execution_count": null,
   "metadata": {},
   "outputs": [],
   "source": [
    "# Define your functions here.\n",
    "...\n",
    "\n",
    "# Test out your functions here. Try a few different examples!\n",
    "to_postal_code('Maryland'), to_name('GU')"
   ]
  },
  {
   "cell_type": "code",
   "execution_count": null,
   "metadata": {
    "deletable": false,
    "editable": false
   },
   "outputs": [],
   "source": [
    "grader.check(\"q6_1\")"
   ]
  },
  {
   "cell_type": "markdown",
   "metadata": {},
   "source": [
    "**Question 6.2.** Create a new DataFrame called `begin_cases` that has 51 rows (one for each state plus DC) and contains four columns:\n",
    "\n",
    "1. `'state'`: The two-letter postal code abbreviation for the state.\n",
    "2. `'population'`: The population of the state.\n",
    "3. `'beginPositive'`: The total number of positive COVID-19 tests recorded for that state, as of October 1, 2020.\n",
    "4. `'beginPositiveRate'`: As of October 1, 2020, the total number of positive tests per 100,000 people for that state.\n"
   ]
  },
  {
   "cell_type": "code",
   "execution_count": null,
   "metadata": {},
   "outputs": [],
   "source": [
    "begin_cases = ...\n",
    "begin_cases"
   ]
  },
  {
   "cell_type": "code",
   "execution_count": null,
   "metadata": {
    "deletable": false,
    "editable": false
   },
   "outputs": [],
   "source": [
    "grader.check(\"q6_2\")"
   ]
  },
  {
   "cell_type": "markdown",
   "metadata": {},
   "source": [
    "**Question 6.3.** Using `begin_cases`, identify the state that had the highest number of positive tests per 100,000 people, as of **October 1**. Store the two-letter postal code abbreviation of that state in variable `begin_highest`."
   ]
  },
  {
   "cell_type": "code",
   "execution_count": null,
   "metadata": {},
   "outputs": [],
   "source": [
    "begin_highest = ...\n",
    "begin_highest"
   ]
  },
  {
   "cell_type": "code",
   "execution_count": null,
   "metadata": {
    "deletable": false,
    "editable": false
   },
   "outputs": [],
   "source": [
    "grader.check(\"q6_3\")"
   ]
  },
  {
   "cell_type": "markdown",
   "metadata": {},
   "source": [
    "Let's see if this state was able to improve upon its numbers throughout the fall:"
   ]
  },
  {
   "cell_type": "code",
   "execution_count": null,
   "metadata": {
    "scrolled": true
   },
   "outputs": [],
   "source": [
    "state_trend(begin_highest)"
   ]
  },
  {
   "cell_type": "markdown",
   "metadata": {},
   "source": [
    "**Question 6.4.** Repeat the above process, except use the end of the given time period instead of the beginning. Name your DataFrame `end_cases`, with columns `'state'`, `'population'`, `'endPositive'`, and `'endPositiveRate'`. Then, find the state that had the highest total number of positive tests per 100,000 people, as of **December 31**. Store the two-letter postal code abbreviation of that state in variable `end_highest`. "
   ]
  },
  {
   "cell_type": "code",
   "execution_count": null,
   "metadata": {},
   "outputs": [],
   "source": [
    "end_highest = ...\n",
    "end_highest"
   ]
  },
  {
   "cell_type": "code",
   "execution_count": null,
   "metadata": {
    "deletable": false,
    "editable": false
   },
   "outputs": [],
   "source": [
    "grader.check(\"q6_4\")"
   ]
  },
  {
   "cell_type": "markdown",
   "metadata": {},
   "source": [
    "Let's see what happened in this state throughout the fall."
   ]
  },
  {
   "cell_type": "code",
   "execution_count": null,
   "metadata": {},
   "outputs": [],
   "source": [
    "state_trend(end_highest)"
   ]
  },
  {
   "cell_type": "markdown",
   "metadata": {},
   "source": [
    "<a id='part1_section7'></a>\n",
    "### Section 7: Mask Mandates 😷\n",
    "\n",
    "It has long been advocated by public health experts, including the World Health Organization and the Center for Disease Control, that wearing a mask can prevent the spread of COVID-19. We would like to see how this plays out in our data, using a dataset of which states have had state-wide mask mandates and which dates they were in effect. This data comes from an article by [U.S. News and World Report](https://www-usnews-com.cdn.ampproject.org/v/s/www.usnews.com/news/best-states/articles/these-are-the-states-with-mask-mandates?amp_js_v=a6&amp_gsa=1&context=amp&usqp=mq331AQHKAFQArABIA%3D%3D#aoh=16110233502761&referrer=https%3A%2F%2Fwww.google.com&amp_tf=From%20%251%24s&ampshare=https%3A%2F%2Fwww.usnews.com%2Fnews%2Fbest-states%2Farticles%2Fthese-are-the-states-with-mask-mandates) and some webscraping for missing information.\n",
    "\n",
    "First, as of April 12, 2022, all states in the United States have gotten rid of mask mandates though many states still recommend wearing a mask in indoor settings where social distancing is not possible.\n",
    "\n",
    "Second, the mandate end date in the dataset is the date when indoor masking for **vaccinated individuals** was no longer required.\n",
    "\n",
    "Lastly, as the article points out, the details of the mask mandate differed from state to state. There were states that did not issue a state-wide mandate but allowed for individual counties and cities to do so. Some states banned individual counties and cities from implementing a mandate at all. In states that had mandates, they applied in different situations: public transportation, schools, etc. The dataset does not capture such detailed information on the mandates.\n",
    "\n",
    "The data is located at `data/mask_mandate.csv`. Let's read it in."
   ]
  },
  {
   "cell_type": "code",
   "execution_count": null,
   "metadata": {},
   "outputs": [],
   "source": [
    "mask_mandate = bpd.read_csv('data/mask_mandate.csv')\n",
    "mask_mandate"
   ]
  },
  {
   "cell_type": "markdown",
   "metadata": {},
   "source": [
    "For each state, there is a column containing boolean values corresponding to whether there ever was a mask mandate in that state. For those that did have a mandate at some point, we record the start date and end date of the mandate. For states that reinstated a mask mandate amidst the Omicron variant surge, there are two start and end dates, separated by a comma. \n",
    "\n",
    "Currently, the `'mandate_start'` and `'mandate_end'` columns contain strings, which are not very useful to us. For example, the string in the mandate_start column for California (CA) is `'2020-06-18,2021-12-15'`. Let's instead try to separate that into two strings, one for each date."
   ]
  },
  {
   "cell_type": "markdown",
   "metadata": {},
   "source": [
    "**Question 7.1.** Create a new DataFrame called `mask_list`. `mask_list` should have a row for all 50 states plus the District of Columbia (DC). It should have four columns:\n",
    "\n",
    "1. `'state'`: The state's two-letter postal code abbreviation. \n",
    "2. `'mandate'`: A boolean, `True` if the state ever had a mask mandate, `False` otherwise.\n",
    "3. `'start'`: A list of date strings for mask mandate start dates. Each date string should be formatted as YYYY-MM-DD.\n",
    "4. `'end'`: A list of date strings for mask mandate end dates. Each date string should be formatted as YYYY-MM-DD.\n",
    "\n",
    "For example, the string in the `'mandate_start'` column for California (CA) is `'2020-06-18,2021-12-15'`. In the new DataFrame, the `'start'` column for California should contain the list `['2020-06-18', '2021-12-15']`. \n",
    "\n",
    "*Hint*: The Series method ```str.split``` may be helpful. Note this is a _Series_ method, similar to `str.contains`. It's not the same as the string method `.split()`."
   ]
  },
  {
   "cell_type": "code",
   "execution_count": null,
   "metadata": {},
   "outputs": [],
   "source": [
    "mask_list = ...\n",
    "mask_list"
   ]
  },
  {
   "cell_type": "code",
   "execution_count": null,
   "metadata": {
    "deletable": false,
    "editable": false
   },
   "outputs": [],
   "source": [
    "grader.check(\"q7_1\")"
   ]
  },
  {
   "cell_type": "markdown",
   "metadata": {},
   "source": [
    "We want to figure out the total number of days that each state's mask mandate was in effect. To do that, we need to revisit the `date` object from `datetime`. \n",
    "\n",
    "While we could calculate the difference between two dates manually, it is easier to subtract using `date` objects. \n",
    "\n",
    "The dates in the `'start'` and `'end'` columns of `mask_list` are in what is called an **[ISO 8601](https://en.wikipedia.org/wiki/ISO_8601)** format (YYYY-MM-DD).\n",
    "\n",
    "Fortunately, `datetime` has a method, `fromisoformat`, that converts ISO 8601 format dates to `date` objects. Here's an example:"
   ]
  },
  {
   "cell_type": "code",
   "execution_count": null,
   "metadata": {},
   "outputs": [],
   "source": [
    "iso_april_fools = datetime.date.fromisoformat('2022-04-01')\n",
    "iso_april_fools"
   ]
  },
  {
   "cell_type": "markdown",
   "metadata": {},
   "source": [
    "Now we'll learn how to calculate the number of days between two dates: all we need to do is subtract the two `date` objects, just like we'd subtract `int`s or `float`s. For example, the time between *April 1st, 2021* and *April 1st, 2022* should be 365 days. "
   ]
  },
  {
   "cell_type": "code",
   "execution_count": null,
   "metadata": {},
   "outputs": [],
   "source": [
    "april_fools_2021 = datetime.date.fromisoformat('2021-04-01')\n",
    "april_fools_2022 = datetime.date.fromisoformat('2022-04-01')\n",
    "\n",
    "diff = april_fools_2022 - april_fools_2021\n",
    "diff"
   ]
  },
  {
   "cell_type": "markdown",
   "metadata": {},
   "source": [
    "This says that there are 365 days between these two dates, but instead of just giving the `int` 365, subtracting two `date` objects produces something called a ```timedelta``` object. You do not need to know too much about it, except for the fact that we can extract the information we want (the number of days between two ```date``` objects) by using the ```days``` attribute (not a function!) on the ```timedelta``` object."
   ]
  },
  {
   "cell_type": "code",
   "execution_count": null,
   "metadata": {},
   "outputs": [],
   "source": [
    "diff.days"
   ]
  },
  {
   "cell_type": "markdown",
   "metadata": {},
   "source": [
    "This produces a regular old `int`, which we know how to work with."
   ]
  },
  {
   "cell_type": "markdown",
   "metadata": {},
   "source": [
    "**Question 7.2.** Create a function called ```calc_duration``` that takes in two lists of date strings of the same length, ```start``` and ```end```, and calculates the total number of days between each pair of corresponding start and end dates in the lists. For guidance, here are some example inputs and expected outputs for the function:\n",
    "\n",
    "```python\n",
    ">>> calc_duration(['2022-04-01'], ['2022-04-12'])\n",
    "11\n",
    ">>> calc_duration(['2021-04-01', '2022-04-01'], ['2022-04-01', '2022-04-12'])\n",
    "376\n",
    "```"
   ]
  },
  {
   "cell_type": "code",
   "execution_count": null,
   "metadata": {},
   "outputs": [],
   "source": [
    "def calc_duration(start, end):\n",
    "    ..."
   ]
  },
  {
   "cell_type": "code",
   "execution_count": null,
   "metadata": {
    "deletable": false,
    "editable": false
   },
   "outputs": [],
   "source": [
    "grader.check(\"q7_2\")"
   ]
  },
  {
   "cell_type": "markdown",
   "metadata": {},
   "source": [
    "Before we use the `calc_duration` function on our `mask_list` data, there are rows where `'start'` and `'end'` are missing (the `NaN` values). These `NaN`s are `np.NaN` objects, objects that exist in `numpy` specifically for missing data. We don't know how to deal with missing values yet (it's covered in DSC 80), so let's just work with states that had a mask mandate at some point."
   ]
  },
  {
   "cell_type": "markdown",
   "metadata": {},
   "source": [
    "**Question 7.3.** Filter the `mask_list` DataFrame so that it just includes the states that have had mask mandates during the pandemic. Save the result as `had_mandate`."
   ]
  },
  {
   "cell_type": "code",
   "execution_count": null,
   "metadata": {},
   "outputs": [],
   "source": [
    "had_mandate = ...\n",
    "had_mandate"
   ]
  },
  {
   "cell_type": "code",
   "execution_count": null,
   "metadata": {
    "deletable": false,
    "editable": false
   },
   "outputs": [],
   "source": [
    "grader.check(\"q7_3\")"
   ]
  },
  {
   "cell_type": "markdown",
   "metadata": {},
   "source": [
    "You might have noticed that in order to `apply` our `calc_duration` to the data in this DataFrame, we'd need to use values from two different columns, which is something we haven't covered in class. We have therefore implemented the code to `apply` the `calc_duration` function for you. The DataFrame below, called `mask_duration`, has an additional column containing the output of the `calc_duration` function for each row, or the total length of all mask mandates in each state that had a mask mandate."
   ]
  },
  {
   "cell_type": "code",
   "execution_count": null,
   "metadata": {},
   "outputs": [],
   "source": [
    "# We've written this code for you. You don't need to know how it works; just run it.\n",
    "mask_duration = had_mandate.assign(duration=had_mandate.apply(lambda x: calc_duration(x['start'], x['end']), axis=1))\n",
    "mask_duration"
   ]
  },
  {
   "cell_type": "markdown",
   "metadata": {},
   "source": [
    "To explore the connection between COVID cases and mask mandates, we need to look at the COVID data again. We'll look at the ```begin_cases``` and `end_cases` DataFrames in particular. In case you've forgotten, these DataFrames contain information about the total number of positive cases in each state, and the rate per 100,000 people, at the beginning of fall 2020 (October 1) and the end of fall 2020 (December 31). Run the cells below to recall what these DataFrames look like."
   ]
  },
  {
   "cell_type": "code",
   "execution_count": null,
   "metadata": {
    "scrolled": true
   },
   "outputs": [],
   "source": [
    "begin_cases"
   ]
  },
  {
   "cell_type": "code",
   "execution_count": null,
   "metadata": {},
   "outputs": [],
   "source": [
    "end_cases"
   ]
  },
  {
   "cell_type": "markdown",
   "metadata": {},
   "source": [
    "We want to combine the rates from these DataFrames with the mask mandate durations from the `mask_duration` DataFrame. We've done this for you below to create a new DataFrame called ```rate_duration``` that has a row for all 50 states plus the District of Columbia, and the following columns:\n",
    "\n",
    "1. ```'state'```: The state abbreviation.\n",
    "2. ```'beginPositiveRate'```: As of October 1, 2020, the total number of positive tests per 100,000 people for that state.\n",
    "3. `'endPositiveRate'`: As of December 31, 2020, the total number of positive tests per 100,000 people for that state.\n",
    "4. ```'duration'```: Total number of days that a mask mandate was in effect for that state. "
   ]
  },
  {
   "cell_type": "code",
   "execution_count": null,
   "metadata": {},
   "outputs": [],
   "source": [
    "# We've written this code for you. You'll probably understand most of it, \n",
    "# except for the how='left' argument in merge, which you don't need to worry about.\n",
    "\n",
    "rate_duration = (begin_cases\n",
    " .merge(mask_duration, how='left', on='state')\n",
    " .merge(end_cases, on='state')\n",
    " .get(['state', 'beginPositiveRate', 'endPositiveRate', 'duration'])\n",
    ")\n",
    "rate_duration"
   ]
  },
  {
   "cell_type": "markdown",
   "metadata": {},
   "source": [
    "Since the `rate_duration` DataFrame includes states that never had a mask mandate, the missing values, recorded as ```NaN```, are back again. But we know that states that never had a mask mandate had 0 days of mask mandate. Let's fix that."
   ]
  },
  {
   "cell_type": "markdown",
   "metadata": {},
   "source": [
    "**Question 7.4.** Create a DataFrame called `complete_mandate` that is exactly the same as `rate_duration`, except the `'duration'` column should have `NaN` values replaced with 0s.\n",
    "\n",
    "*Note:* ```Numpy``` has a function ```np.isnan()``` that takes in an object and returns `True` if it is a ```np.NaN``` object, `False` otherwise. You cannot check whether a variable `x` is ```np.NaN``` using the `==` symbol such as, \n",
    "\n",
    "```python\n",
    ">>> x == np.NaN\n",
    "False\n",
    "```\n",
    "as it will evaluate to `False` even if ```x``` is actually a ```np.NaN``` object.\n",
    "\n",
    "Instead, use the ```np.isnan()``` function:\n",
    "\n",
    "```python\n",
    ">>> np.isnan(x)\n",
    "True\n",
    "```\n",
    "\n",
    "*Hint:* It might help to create a separate function and `apply` it."
   ]
  },
  {
   "cell_type": "code",
   "execution_count": null,
   "metadata": {},
   "outputs": [],
   "source": [
    "complete_mandate = ...\n",
    "complete_mandate"
   ]
  },
  {
   "cell_type": "code",
   "execution_count": null,
   "metadata": {
    "deletable": false,
    "editable": false
   },
   "outputs": [],
   "source": [
    "grader.check(\"q7_4\")"
   ]
  },
  {
   "cell_type": "markdown",
   "metadata": {},
   "source": [
    "Now that the ```'duration'``` column is all numerical, we can do some data visualization."
   ]
  },
  {
   "cell_type": "markdown",
   "metadata": {},
   "source": [
    "**Question 7.5.** Create a scatter plot showing the relationship between each state's total duration of mask mandates and the *change* (increase) in the total number of positive tests per 100,000 people between October 1 and December 31. In your plot, the x-axis should represent the total number of days the mask mandates were in effect and the y-axis should represent the increase in the total number of positive tests per 100,000 people during fall 2020."
   ]
  },
  {
   "cell_type": "markdown",
   "metadata": {
    "deletable": false,
    "editable": false
   },
   "source": [
    "<!-- BEGIN QUESTION -->\n",
    "\n",
    "<!--\n",
    "BEGIN QUESTION\n",
    "name: q7_5\n",
    "points: 1\n",
    "manual: True\n",
    "-->"
   ]
  },
  {
   "cell_type": "code",
   "execution_count": null,
   "metadata": {},
   "outputs": [],
   "source": [
    "# Make your plot here.\n",
    "..."
   ]
  },
  {
   "cell_type": "markdown",
   "metadata": {},
   "source": [
    "<!-- END QUESTION -->\n",
    "\n",
    "\n",
    "\n",
    "You should see a pretty clear negative association here, showing that the states with longer-lasting mask mandates had fewer new positive cases from October 1, 2020 to December 31, 2020. Of course, some of the mask mandates lasted a lot longer than the time period covered here, which was only 92 days. Therefore, it's not the fact that certain states had mandates lasting hundreds of days that *caused* fewer new positive cases from October 1, 2020 to December 31, 2020, as most of those long-lasting mandates hadn't even happened yet! Rather, a likely confounding factor is that the states that imposed and tolerated long-lasting mandates are the same states where residents were being cautious about gathering in groups, were wearing masks in fall 2020, and were generally following public health directives. "
   ]
  },
  {
   "cell_type": "markdown",
   "metadata": {},
   "source": [
    "Let's conclude this section by looking at the state level to see if we can observe the relationship between the imposition of mask mandates and the spread of the virus in particular states. Iowa, for example, instituted a mask mandate on November 17, right in middle of the time period we are looking at. "
   ]
  },
  {
   "cell_type": "code",
   "execution_count": null,
   "metadata": {},
   "outputs": [],
   "source": [
    "state_trend('IA') \n",
    "\n",
    "# This code creates an orange line showing when the mask mandate went into effect. You can ignore this code.\n",
    "IA_idx = list(covid[covid.get('state')=='IA'].groupby(['month', 'day']).sum().index).index((11, 17))\n",
    "plt.axvline(IA_idx, color = 'orange');"
   ]
  },
  {
   "cell_type": "markdown",
   "metadata": {},
   "source": [
    "North Dakota implemented their mask mandate right around the same time, on November 14, and the trend there is similar."
   ]
  },
  {
   "cell_type": "code",
   "execution_count": null,
   "metadata": {
    "scrolled": false
   },
   "outputs": [],
   "source": [
    "state_trend('ND') \n",
    "\n",
    "# This code creates an orange line showing when the mask mandate went into effect. You can ignore this code.\n",
    "ND_idx = list(covid[covid.get('state')=='ND'].groupby(['month', 'day']).sum().index).index((11, 14))\n",
    "plt.axvline(x = ND_idx, color = 'orange');"
   ]
  },
  {
   "cell_type": "markdown",
   "metadata": {},
   "source": [
    "These graphs certainly seem to suggest that there may be a causal link between mask mandates and improved COVID outcomes, but since we're not looking at a randomized controlled trial, we can't say for certain. In Iowa, for example cases were already trending down when the mandate went into effect, so the cases might have continued to decline either way. As you may know from following the news, the effectiveness of masks and the imposition of mask mandates can be a highly contentious topic that tends to polarize people along political lines.  This leads us to the last and final section of the project, in which you'll look more closely at the connection between politics and COVID-19. Almost done, finish strong! 💪"
   ]
  },
  {
   "cell_type": "markdown",
   "metadata": {},
   "source": [
    "<a id='part1_section8'></a>\n",
    "### Section 8: Political Parties 🐘 🐎\n",
    "\n",
    "As the pandemic has dragged on, we've seen how COVID has become a very political issue fueling lots of debate. In this section, we'll explore how COVID outcomes relate to political affiliation, on a statewide level. We'll address the question of whether COVID has affected Democratic and Republican states equally.\n",
    "\n",
    "In this section, we'll work with two different datasets. We have cleaned up the data for you by handling missing values, correcting data entry errors, and renaming columns. Our first dataset contains the political party of each state's governor ([source](https://github.com/CivilServiceUSA)). The next contains information on the [popular vote](https://en.wikipedia.org/wiki/United_States_presidential_election#Popular_vote) for the 2020 presidential election, obtained from the [Cook Political Report](https://www.cookpolitical.com/2020-national-popular-vote-tracker). For each state plus Washington, D.C., this dataset records the number of voters who cast their ballots for Joe Biden (the Democratic candidate), for Donald Trump (the Republican candidate), and for some other candidate. \n",
    "\n",
    "Run the cells below to read in the data."
   ]
  },
  {
   "cell_type": "code",
   "execution_count": null,
   "metadata": {
    "scrolled": true
   },
   "outputs": [],
   "source": [
    "governors = bpd.read_csv('data/governors.csv')\n",
    "governors"
   ]
  },
  {
   "cell_type": "code",
   "execution_count": null,
   "metadata": {
    "scrolled": true
   },
   "outputs": [],
   "source": [
    "popular_vote = bpd.read_csv('data/popular_vote.csv')\n",
    "popular_vote"
   ]
  },
  {
   "cell_type": "markdown",
   "metadata": {},
   "source": [
    "**Question 8.1.** To start, add a new column to the `popular_vote` DataFrame called `'popParty'` that contains the string \"Democratic\" or the string \"Republican\", corresponding to whichever party won more votes in that state during the 2020 presidential election. "
   ]
  },
  {
   "cell_type": "code",
   "execution_count": null,
   "metadata": {},
   "outputs": [],
   "source": [
    "popular_vote = ...\n",
    "popular_vote"
   ]
  },
  {
   "cell_type": "code",
   "execution_count": null,
   "metadata": {
    "deletable": false,
    "editable": false
   },
   "outputs": [],
   "source": [
    "grader.check(\"q8_1\")"
   ]
  },
  {
   "cell_type": "markdown",
   "metadata": {},
   "source": [
    "Now we want to combine this political data with the COVID data we've compiled in the `complete_mandate` DataFrame from Section 7. This will allow us to address the question of how COVID outcomes differed in states with different political leanings.\n",
    "\n",
    "**Question 8.2.** Create a new DataFrame called `covid_politics` that has one row for each of the 50 US states (not including Washington, D.C.) and contains four columns:\n",
    "\n",
    "1. `'state'`: The full name of the state.\n",
    "3. `'endPositiveRate'`: As of December 31, 2020, the total number of positive tests per 100,000 people for that state.\n",
    "4. `'govParty'`: The political party of the state's governor.\n",
    "5. `'popParty'`: The political party that was more popular among voters in the 2020 presidential election.\n",
    "\n",
    "*Hint*: The data you need comes from _three_ different DataFrames!"
   ]
  },
  {
   "cell_type": "code",
   "execution_count": null,
   "metadata": {},
   "outputs": [],
   "source": [
    "covid_politics = ...\n",
    "covid_politics"
   ]
  },
  {
   "cell_type": "code",
   "execution_count": null,
   "metadata": {
    "deletable": false,
    "editable": false
   },
   "outputs": [],
   "source": [
    "grader.check(\"q8_2\")"
   ]
  },
  {
   "cell_type": "markdown",
   "metadata": {},
   "source": [
    "**Question 8.3.** Now create a DataFrame called `republican_governors` with the same columns as `covid_politics`, but with rows for only the states with a Republican governor. Similarly, create a `democratic_governors` DataFrame for the states with a Democratic governor."
   ]
  },
  {
   "cell_type": "code",
   "execution_count": null,
   "metadata": {},
   "outputs": [],
   "source": [
    "republican_governors = ...\n",
    "republican_governors"
   ]
  },
  {
   "cell_type": "code",
   "execution_count": null,
   "metadata": {
    "deletable": false,
    "editable": false
   },
   "outputs": [],
   "source": [
    "grader.check(\"q8_3a\")"
   ]
  },
  {
   "cell_type": "code",
   "execution_count": null,
   "metadata": {
    "scrolled": true
   },
   "outputs": [],
   "source": [
    "democratic_governors = ...\n",
    "democratic_governors"
   ]
  },
  {
   "cell_type": "code",
   "execution_count": null,
   "metadata": {
    "deletable": false,
    "editable": false
   },
   "outputs": [],
   "source": [
    "grader.check(\"q8_3b\")"
   ]
  },
  {
   "cell_type": "markdown",
   "metadata": {},
   "source": [
    "Let's compare the distribution of positive cases per 100,000 people in states with a Republican governor to the distribution in states with a Democractic governor. Since a histogram shows how a numerical variable is distributed, we need to compare two histograms. The code below does that for you. Run it to see if there was a noticeable difference in COVID cases between states with Republican governors and states with Democratic governors."
   ]
  },
  {
   "cell_type": "code",
   "execution_count": null,
   "metadata": {},
   "outputs": [],
   "source": [
    "fig, ax = plt.subplots()\n",
    "covid_bins = np.arange(0, 13000, 1000)\n",
    "democratic_governors.plot(kind='hist', y='endPositiveRate', density=True, ax=ax, alpha=0.75, bins=covid_bins, ec='w', figsize=(10, 5))\n",
    "republican_governors.plot(kind='hist', y='endPositiveRate', density=True, ax=ax, alpha=0.75, bins=covid_bins, ec='w')\n",
    "plt.legend(['Democratic Governor', 'Republican Governor'])\n",
    "plt.title('Positive COVID-19 Tests Per 100,000 People, as of December 31, 2020');"
   ]
  },
  {
   "cell_type": "markdown",
   "metadata": {},
   "source": [
    "There certainly seems to be a difference in COVID rates when we break the states into two groups according to the governor's political party. Let's try to quantify just how large this difference is."
   ]
  },
  {
   "cell_type": "markdown",
   "metadata": {},
   "source": [
    "**Question 8.4.** Compute the mean COVID rate per 100,000 people as of December 31, 2020 among states with a Republican governor, and similarly, among states with a Democratic governor. Store the difference of those means (Republican minus Democratic) in the variable `difference_by_governor`."
   ]
  },
  {
   "cell_type": "code",
   "execution_count": null,
   "metadata": {},
   "outputs": [],
   "source": [
    "difference_by_governor = ...\n",
    "difference_by_governor"
   ]
  },
  {
   "cell_type": "code",
   "execution_count": null,
   "metadata": {
    "deletable": false,
    "editable": false
   },
   "outputs": [],
   "source": [
    "grader.check(\"q8_4\")"
   ]
  },
  {
   "cell_type": "markdown",
   "metadata": {},
   "source": [
    "Take a minute to think about what this number means. In an average Republican-governed state, as compared to an average Democratic-governed state, an additional `difference_by_governor` many people out of every 100,000 got COVID in 2020. In a way, this number represents the additional risk per 100,000 people, incurred by living in a Republican-governed state during the year 2020.\n",
    "\n",
    "In the analysis we've done so far, we've divided the states into two groups based on the political party of the governor. But the governor is just one (admittedly, important) person out of millions. Would our results be different if we divided the states into groups based on how their residents voted in the 2020 presidential election? Let's find out!"
   ]
  },
  {
   "cell_type": "markdown",
   "metadata": {},
   "source": [
    "**Question 8.5.** Since a state's residents elect the governor, we might expect that the governor would come from the same political party that the voters preferred in the 2020 presidential election. That usually happens, but not always. Set `mismatch_states` to an array of states (full names) where the governor's political party is different than the party that was more popular among voters in the 2020 election. "
   ]
  },
  {
   "cell_type": "code",
   "execution_count": null,
   "metadata": {},
   "outputs": [],
   "source": [
    "mismatch_states = ...\n",
    "mismatch_states"
   ]
  },
  {
   "cell_type": "code",
   "execution_count": null,
   "metadata": {
    "deletable": false,
    "editable": false
   },
   "outputs": [],
   "source": [
    "grader.check(\"q8_5\")"
   ]
  },
  {
   "cell_type": "markdown",
   "metadata": {},
   "source": [
    "**Question 8.6.** Next, we'll separate the states into groups based on the popular vote in the 2020 election. Create a DataFrame called `republican_residents` with the same columns as `covid_politics`, but with rows for only the states where the Republican party was more popular in the 2020 election. Similarly, create a `democratic_residents` DataFrame for the states where the Democratic party was more popular in the 2020 election."
   ]
  },
  {
   "cell_type": "code",
   "execution_count": null,
   "metadata": {
    "scrolled": true
   },
   "outputs": [],
   "source": [
    "republican_residents = ...\n",
    "republican_residents"
   ]
  },
  {
   "cell_type": "code",
   "execution_count": null,
   "metadata": {
    "deletable": false,
    "editable": false
   },
   "outputs": [],
   "source": [
    "grader.check(\"q8_6a\")"
   ]
  },
  {
   "cell_type": "code",
   "execution_count": null,
   "metadata": {},
   "outputs": [],
   "source": [
    "democratic_residents = ...\n",
    "democratic_residents"
   ]
  },
  {
   "cell_type": "code",
   "execution_count": null,
   "metadata": {
    "deletable": false,
    "editable": false
   },
   "outputs": [],
   "source": [
    "grader.check(\"q8_6b\")"
   ]
  },
  {
   "cell_type": "markdown",
   "metadata": {},
   "source": [
    "Now we'll compare the year-end COVID case rates when we break up the states into political groups in this way. Run the cell below to see the results."
   ]
  },
  {
   "cell_type": "code",
   "execution_count": null,
   "metadata": {},
   "outputs": [],
   "source": [
    "fig, ax = plt.subplots()\n",
    "covid_bins = np.arange(0, 13000, 1000)\n",
    "democratic_residents.plot(kind='hist', y='endPositiveRate', density=True, ax=ax, alpha=0.75, bins=covid_bins, ec='w', figsize=(10, 5))\n",
    "republican_residents.plot(kind='hist', y='endPositiveRate', density=True, ax=ax, alpha=0.75, bins=covid_bins, ec='w')\n",
    "plt.legend(['Democratic Residents', 'Republican Residents'])\n",
    "plt.title('Positive COVID-19 Tests Per 100,000 People, as of December 31, 2020');"
   ]
  },
  {
   "cell_type": "markdown",
   "metadata": {},
   "source": [
    "The difference between the groups looks even starker in this histogram as compared to the first, when we separated states by the governor's political party. \n",
    "\n",
    "As our final step, we'll quantify the additional impact of living in a Republican-voting state on COVID rates."
   ]
  },
  {
   "cell_type": "markdown",
   "metadata": {},
   "source": [
    "**Question 8.7.** Set `difference_by_residents` to the average amount of additional risk per 100,000 people incurred by living in a Republican-voting state during the year 2020.\n",
    "\n",
    "*Hint:* This should be very similar to your solution to Question 8.4."
   ]
  },
  {
   "cell_type": "code",
   "execution_count": null,
   "metadata": {},
   "outputs": [],
   "source": [
    "difference_by_residents = ...\n",
    "difference_by_residents"
   ]
  },
  {
   "cell_type": "code",
   "execution_count": null,
   "metadata": {
    "deletable": false,
    "editable": false
   },
   "outputs": [],
   "source": [
    "grader.check(\"q8_7\")"
   ]
  },
  {
   "cell_type": "markdown",
   "metadata": {},
   "source": [
    "You should find that `difference_by_residents` is larger than `difference_by_governor`. This suggests that the political leanings of the residents are more important to COVID outcomes than the political party of the governor. That aligns with what we suspected when we decided to investigate voter preferences in the first place; the millions of people who live in a state have more of an impact of COVID outcomes than the sole governor. 🤝"
   ]
  },
  {
   "cell_type": "markdown",
   "metadata": {},
   "source": [
    "## Congratulations! You've completed the Midterm Project! 🎉\n",
    "\n",
    "All you need to do now is submit your assignment:\n",
    "\n",
    "1. Select Kernel -> Restart & Run All to ensure that you have executed all cells, including the test cells. **If you do not do this, we may not be able to grade your work!**\n",
    "2. Read through the notebook to make sure everything is fine and all tests passed.\n",
    "3. Run the cell below to run all tests, and make sure that they all pass.\n",
    "4. Download your notebook using File -> Download as -> Notebook (.ipynb), then upload your notebook to Gradescope. **Don't forget to add your partner to your group on Gradescope!**\n",
    "\n",
    "If running all the tests at once causes a test to fail that didn't fail when you ran the notebook in order, check to see if you changed a variable's value later in your code. Make sure to use new variable names instead of reusing ones that are used in the tests.\n",
    "\n",
    "Remember, the tests here and on Gradescope just check the format of your answers. We will run correctness tests after the assignment's due date has passed."
   ]
  },
  {
   "cell_type": "code",
   "execution_count": null,
   "metadata": {},
   "outputs": [],
   "source": [
    "grader.check_all()"
   ]
  }
 ],
 "metadata": {
  "kernelspec": {
   "display_name": "Python 3 (ipykernel)",
   "language": "python",
   "name": "python3"
  },
  "language_info": {
   "codemirror_mode": {
    "name": "ipython",
    "version": 3
   },
   "file_extension": ".py",
   "mimetype": "text/x-python",
   "name": "python",
   "nbconvert_exporter": "python",
   "pygments_lexer": "ipython3",
   "version": "3.9.5"
  }
 },
 "nbformat": 4,
 "nbformat_minor": 4
}
